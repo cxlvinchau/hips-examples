{
 "cells": [
  {
   "cell_type": "markdown",
   "id": "d873c826",
   "metadata": {},
   "source": [
    "# Feasibility Pump example"
   ]
  },
  {
   "cell_type": "markdown",
   "id": "96a1dff0",
   "metadata": {
    "id": "OrtQ45RzRVvy"
   },
   "source": [
    "## Installing the packages"
   ]
  },
  {
   "cell_type": "markdown",
   "id": "a2b636de",
   "metadata": {
    "id": "0Aed_OejRpnN"
   },
   "source": [
    "In the following we use the `GurobiSolver` and thus need to install gurobi."
   ]
  },
  {
   "cell_type": "code",
   "execution_count": null,
   "id": "72a7041c",
   "metadata": {},
   "outputs": [],
   "source": [
    "%%capture\n",
    "!pip install gurobipy"
   ]
  },
  {
   "cell_type": "markdown",
   "id": "dfd12c28",
   "metadata": {
    "id": "PPeo5praTpPi"
   },
   "source": [
    "Afterwards, we can install hips."
   ]
  },
  {
   "cell_type": "code",
   "execution_count": null,
   "id": "d9d2e23d",
   "metadata": {
    "id": "PPeo5praTpPi"
   },
   "outputs": [],
   "source": [
    "%%capture\n",
    "!pip install https://github.com/cxlvinchau/hips/archive/master.zip"
   ]
  },
  {
   "cell_type": "markdown",
   "id": "e45d601a",
   "metadata": {
    "id": "uwPUabdgRxpt"
   },
   "source": [
    "## Example"
   ]
  },
  {
   "cell_type": "markdown",
   "id": "9d36f0a5",
   "metadata": {},
   "source": [
    "First add the required imports:"
   ]
  },
  {
   "cell_type": "code",
   "execution_count": null,
   "id": "ebd15e0f",
   "metadata": {},
   "outputs": [],
   "source": [
    "from hips import load_problem\n",
    "from hips.heuristics._feasibility_pump import FeasibilityPump"
   ]
  },
  {
   "cell_type": "markdown",
   "id": "ce42323a",
   "metadata": {
    "id": "wc3Moyn5Ug3Z"
   },
   "source": [
    "Now let us load a problem. In this example we load the `10teams` example from MIPLIB 2017. The example can be found [here](https://miplib.zib.de/instance_details_10teams.html)."
   ]
  },
  {
   "cell_type": "code",
   "execution_count": null,
   "id": "a3896b80",
   "metadata": {},
   "outputs": [],
   "source": [
    "mip_model = load_problem(\"10teams\")"
   ]
  },
  {
   "cell_type": "markdown",
   "id": "b766327d",
   "metadata": {},
   "source": [
    "Now let us create Feasibility Pump and specify the iteration maximum `max_iter` to 1000 and the perturbation factor `t` to 15:"
   ]
  },
  {
   "cell_type": "code",
   "execution_count": null,
   "id": "38e2102e",
   "metadata": {},
   "outputs": [],
   "source": [
    "heur = FeasibilityPump(mip_model, t=15)\n",
    "heur.compute(max_iter=1000)"
   ]
  },
  {
   "cell_type": "markdown",
   "id": "ff564793",
   "metadata": {},
   "source": [
    "Now let us inspect the solution found:"
   ]
  },
  {
   "cell_type": "code",
   "execution_count": null,
   "id": "696eb068",
   "metadata": {},
   "outputs": [],
   "source": [
    "print(\"Status: {}\".format(heur.get_status()))\n",
    "print(\"Found solution: {}\".format(heur.get_objective_value()))\n",
    "heur.tracker.plot(\"feasibility objective\")"
   ]
  },
  {
   "cell_type": "markdown",
   "id": "6f4346db",
   "metadata": {},
   "source": [
    "### Playing with the parameter "
   ]
  },
  {
   "cell_type": "markdown",
   "id": "64787285",
   "metadata": {},
   "source": [
    "The Feasibility Pump can achieve quite different solutions, depending on the parameter `t`. \n",
    "This parameter represent how many variables we perturb, in case a cycle is detected. Let us therefore play with its values.\n",
    "To avoid different outcomes in the following experiments, we will furthermore set a seed for the Feasibility Pump."
   ]
  },
  {
   "cell_type": "code",
   "execution_count": null,
   "id": "4e0b9de6",
   "metadata": {},
   "outputs": [],
   "source": [
    "import time\n",
    "import numpy as np"
   ]
  },
  {
   "cell_type": "markdown",
   "id": "ebc95c1e",
   "metadata": {},
   "source": [
    "We will start of with a high value for `t`:"
   ]
  },
  {
   "cell_type": "code",
   "execution_count": null,
   "id": "1f1e4afc",
   "metadata": {},
   "outputs": [],
   "source": [
    "print(\"#-------- Start experiment 1 --------#\")\"\n",
    "\n",
    "feasible = []\n",
    "times = []\n",
    "test_number = 5\n",
    "for i in range(test_number):\n",
    "    mip_model = hips.load_problem_gurobi(\"10teams\")\n",
    "\n",
    "    mip_model.set_mip_sense(ProblemSense.MIN)\n",
    "    start = time.time()\n",
    "\n",
    "    fs = FeasibilityPump(mip_model, t=20, seed=i)\n",
    "    fs.compute(1000)\n",
    "\n",
    "    end = time.time()\n",
    "\n",
    "    sol = {var: fs.variable_solution(var) for var in mip_model.lp_model.vars}\n",
    "    feasible.append(mip_model.is_feasible(sol))\n",
    "\n",
    "    times.append(end-start)\n",
    "    print(\"Model {} solved.\".format(i))\n",
    "\n",
    "print(\"#----------------------------------#\")\n",
    "print(\"Feasible solutions found in {} tests: {}\".format(test_number, sum(feasible)))\n",
    "\n",
    "print(times)\n",
    "print(\"Average time consumed: {}s\".format(sum(times)/len(times)))\n",
    "\n",
    "times = np.array(times)\n",
    "feasible_times = times[np.array(feasible)]\n",
    "print(\"Average time consumed for feasible solutions: {}s\".format(sum(feasible_times)/len(feasible_times)))\n"
   ]
  },
  {
   "cell_type": "markdown",
   "id": "6d6f4853",
   "metadata": {},
   "source": [
    "We should observe, that every run of the Feasibility Pump has found a solution. The runtime of each specific computation,\n",
    "does not differ much from the average.\n",
    "\n",
    "Now we will do the same computations with a lower value for `t`:"
   ]
  },
  {
   "cell_type": "code",
   "execution_count": null,
   "id": "fa77e2ad",
   "metadata": {},
   "outputs": [],
   "source": [
    "print(\"#-------- Start experiment 2 --------#\")\"\n",
    "\n",
    "feasible = []\n",
    "times = []\n",
    "test_number = 5\n",
    "for i in range(test_number):\n",
    "    mip_model = hips.load_problem_gurobi(\"10teams\")\n",
    "\n",
    "    mip_model.set_mip_sense(ProblemSense.MIN)\n",
    "    start = time.time()\n",
    "\n",
    "    fs = FeasibilityPump(mip_model, t=4, seed=i)\n",
    "    fs.compute(1000)\n",
    "\n",
    "    end = time.time()\n",
    "\n",
    "    sol = {var: fs.variable_solution(var) for var in mip_model.lp_model.vars}\n",
    "    feasible.append(mip_model.is_feasible(sol))\n",
    "\n",
    "    times.append(end-start)\n",
    "    print(\"Model {} solved.\".format(i))\n",
    "\n",
    "print(\"#----------------------------------#\")\n",
    "print(\"Feasible solutions found in {} tests: {}\".format(test_number, sum(feasible)))\n",
    "\n",
    "print(times)\n",
    "print(\"Average time consumed: {}s\".format(sum(times)/len(times)))\n",
    "\n",
    "times = np.array(times)\n",
    "feasible_times = times[np.array(feasible)]\n",
    "print(\"Average time consumed for feasible solutions: {}s\".format(sum(feasible_times)/len(feasible_times)))"
   ]
  },
  {
   "cell_type": "markdown",
   "id": "ce0c685a",
   "metadata": {},
   "source": [
    "We should now observe, that not every computation has found a solution. Nevertheless, the computations that found a solution are quite a bit faster than the runs from Experiment 1."
   ]
  },
  {
   "cell_type": "markdown",
   "id": "c35a80f3",
   "metadata": {},
   "source": [
    "We encourage you now to play with the parameter of the Feasibility Pump to get more acquainted with the significance of the choice of the optimal value for the parameter `t`."
   ]
  }
 ],
 "metadata": {
  "kernelspec": {
   "display_name": "Python 3",
   "language": "python",
   "name": "python3"
  },
  "language_info": {
   "codemirror_mode": {
    "name": "ipython",
    "version": 3
   },
   "file_extension": ".py",
   "mimetype": "text/x-python",
   "name": "python",
   "nbconvert_exporter": "python",
   "pygments_lexer": "ipython3",
   "version": "3.8.8"
  }
 },
 "nbformat": 4,
 "nbformat_minor": 5
}
