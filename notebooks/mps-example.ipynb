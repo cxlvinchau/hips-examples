{
  "nbformat": 4,
  "nbformat_minor": 0,
  "metadata": {
    "kernelspec": {
      "display_name": "Python 3",
      "language": "python",
      "name": "python3"
    },
    "language_info": {
      "codemirror_mode": {
        "name": "ipython",
        "version": 3
      },
      "file_extension": ".py",
      "mimetype": "text/x-python",
      "name": "python",
      "nbconvert_exporter": "python",
      "pygments_lexer": "ipython3",
      "version": "3.8.5"
    },
    "colab": {
      "name": "mps-example.ipynb",
      "provenance": []
    }
  },
  "cells": [
    {
      "cell_type": "markdown",
      "metadata": {
        "id": "0i7BAsbFeLad"
      },
      "source": [
        "# Loading MPS files example"
      ]
    },
    {
      "cell_type": "markdown",
      "metadata": {
        "id": "1jY3gZKTFXc8"
      },
      "source": [
        "While it is possible to explicitely create an MIP model, it is often impractical for most real-life problems, since the size of variable and constraints in those models can be very large. Therefore HIPS contains a Loader class, that can read models from MPS files.\n",
        "\n",
        "MPS is a file format for representing linear and mixed integer problem and is a standard in most commercial and open source solvers. It is column-oriented which makes it rather human-inreadable."
      ]
    },
    {
      "cell_type": "markdown",
      "metadata": {
        "id": "z0g5z6JHYK6P"
      },
      "source": [
        "## Installing the packages"
      ]
    },
    {
      "cell_type": "markdown",
      "metadata": {
        "id": "Moto3n4fFuC1"
      },
      "source": [
        "Installing CyLP."
      ]
    },
    {
      "cell_type": "code",
      "metadata": {
        "id": "uBLEDGYKXxWN"
      },
      "source": [
        "%%capture\n",
        "!sudo apt-get install -y git pkg-config coinor-libcbc-dev coinor-libosi-dev coinor-libcoinutils-dev coinor-libcgl-dev\n",
        "!export COIN_INSTALL_DIR=/usr/\n",
        "!pip install --pre cylp"
      ],
      "execution_count": null,
      "outputs": []
    },
    {
      "cell_type": "markdown",
      "metadata": {
        "id": "a8k6yiA9YCYr"
      },
      "source": [
        "Afterwards, we can install HIPS."
      ]
    },
    {
      "cell_type": "code",
      "metadata": {
        "id": "q4T1kDGyYAIN"
      },
      "source": [
        "%%capture\n",
        "!pip install https://github.com/cxlvinchau/hips/archive/master.zip"
      ],
      "execution_count": null,
      "outputs": []
    },
    {
      "cell_type": "markdown",
      "metadata": {
        "id": "W5YnMOytFysC"
      },
      "source": [
        "## Downloading an MPS file"
      ]
    },
    {
      "cell_type": "markdown",
      "metadata": {
        "id": "GQYsl0S2F5dV"
      },
      "source": [
        "Now we download the [flugpl problem](http://miplib2017.zib.de/instance_details_flugpl.html) from the MIPLIB 2017.\n",
        "\n",
        "We download the file with the ``curl``."
      ]
    },
    {
      "cell_type": "code",
      "metadata": {
        "id": "Layf2fLWGBy1"
      },
      "source": [
        "!curl -o flugpl.mps.gz http://miplib2017.zib.de/WebData/instances/flugpl.mps.gz"
      ],
      "execution_count": null,
      "outputs": []
    },
    {
      "cell_type": "markdown",
      "metadata": {
        "id": "dZMj9iXsHStX"
      },
      "source": [
        "Afterwards, we unpack the compressed file with ``gunzip``."
      ]
    },
    {
      "cell_type": "code",
      "metadata": {
        "id": "Fe4YgdZSG_UW"
      },
      "source": [
        "!gunzip flugpl.mps.gz"
      ],
      "execution_count": null,
      "outputs": []
    },
    {
      "cell_type": "markdown",
      "metadata": {
        "id": "t9mpf7DKfi1W"
      },
      "source": [
        "## Example"
      ]
    },
    {
      "cell_type": "code",
      "metadata": {
        "id": "yVGCbhsog8my"
      },
      "source": [
        "from hips.solver import ClpSolver\n",
        "from hips.models import MIPModel\n",
        "from hips.loader import load_mps\n",
        "from hips.constants import ProblemSense"
      ],
      "execution_count": null,
      "outputs": []
    },
    {
      "cell_type": "markdown",
      "metadata": {
        "id": "ZbGMFUDrfkii"
      },
      "source": [
        "**Create an mip model with an underlying solver**"
      ]
    },
    {
      "cell_type": "code",
      "metadata": {
        "id": "3DukwGpGeGSU"
      },
      "source": [
        "model = MIPModel(ClpSolver())"
      ],
      "execution_count": null,
      "outputs": []
    },
    {
      "cell_type": "markdown",
      "metadata": {
        "id": "D6A7h9uYg3vG"
      },
      "source": [
        "**Load the problem specified in the mps file at the path parameter into our model**"
      ]
    },
    {
      "cell_type": "code",
      "metadata": {
        "id": "YWWgo6Frg5UV"
      },
      "source": [
        "load_mps(mip_model=model, path='flugpl.mps')"
      ],
      "execution_count": null,
      "outputs": []
    },
    {
      "cell_type": "markdown",
      "metadata": {
        "id": "DChlsu3nhDJ5"
      },
      "source": [
        "**Set the problem sense**"
      ]
    },
    {
      "cell_type": "code",
      "metadata": {
        "id": "2CKTow53g6qx"
      },
      "source": [
        "model.set_mip_sense(ProblemSense.MIN)"
      ],
      "execution_count": null,
      "outputs": []
    },
    {
      "cell_type": "markdown",
      "metadata": {
        "id": "JAHsugzcBj_0"
      },
      "source": [
        "### Optimizing the problem using branch and bound"
      ]
    },
    {
      "cell_type": "markdown",
      "metadata": {
        "id": "bFx73UvkB6NX"
      },
      "source": [
        "**Import ``BranchAndBound`` and optimize**"
      ]
    },
    {
      "cell_type": "code",
      "metadata": {
        "id": "Dm0OVODjBnGW"
      },
      "source": [
        "from hips.solver import BranchAndBound\n",
        "\n",
        "bb = BranchAndBound(model)\n",
        "bb.optimize()"
      ],
      "execution_count": null,
      "outputs": []
    },
    {
      "cell_type": "markdown",
      "metadata": {
        "id": "apYg6HskBwcr"
      },
      "source": [
        "**Output optimal solution**"
      ]
    },
    {
      "cell_type": "code",
      "metadata": {
        "id": "f-9C0S0ZBrW-"
      },
      "source": [
        "bb.get_incumbent()"
      ],
      "execution_count": null,
      "outputs": []
    },
    {
      "cell_type": "markdown",
      "metadata": {
        "id": "48NyN56BB1Ey"
      },
      "source": [
        "**Output optimal objective value**"
      ]
    },
    {
      "cell_type": "code",
      "metadata": {
        "id": "anuIi5tCB4-T"
      },
      "source": [
        "bb.get_incumbent_val()"
      ],
      "execution_count": null,
      "outputs": []
    }
  ]
}