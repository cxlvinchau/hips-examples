{
 "cells": [
  {
   "cell_type": "markdown",
   "id": "d873c826",
   "metadata": {},
   "source": [
    "# HeuristicBounds example"
   ]
  },
  {
   "cell_type": "markdown",
   "id": "f5958918",
   "metadata": {},
   "source": [
    "This heuristic is implemented after the scipopt primal heuristic 'heur_bounds.h'.\n",
    "The scipopt library describes this as a \"heuristic which fixes all integer variables to a bound (lower/upper) and solves the remaining LP \"."
   ]
  },
  {
   "cell_type": "markdown",
   "id": "96a1dff0",
   "metadata": {
    "id": "OrtQ45RzRVvy"
   },
   "source": [
    "## Installing the packages"
   ]
  },
  {
   "cell_type": "markdown",
   "id": "a2b636de",
   "metadata": {
    "id": "0Aed_OejRpnN"
   },
   "source": [
    "In the following we use the `GurobiSolver` and thus need to install gurobi."
   ]
  },
  {
   "cell_type": "code",
   "execution_count": null,
   "id": "72a7041c",
   "metadata": {},
   "outputs": [],
   "source": [
    "%%capture\n",
    "!pip install gurobipy"
   ]
  },
  {
   "cell_type": "markdown",
   "id": "dfd12c28",
   "metadata": {
    "id": "PPeo5praTpPi"
   },
   "source": [
    "Afterwards, we can install hips."
   ]
  },
  {
   "cell_type": "code",
   "execution_count": null,
   "id": "d9d2e23d",
   "metadata": {
    "id": "PPeo5praTpPi"
   },
   "outputs": [],
   "source": [
    "%%capture\n",
    "!pip install https://github.com/cxlvinchau/hips/archive/master.zip"
   ]
  },
  {
   "cell_type": "markdown",
   "id": "e45d601a",
   "metadata": {
    "id": "uwPUabdgRxpt"
   },
   "source": [
    "## Example"
   ]
  },
  {
   "cell_type": "markdown",
   "id": "9d36f0a5",
   "metadata": {},
   "source": [
    "First add the required imports:"
   ]
  },
  {
   "cell_type": "code",
   "execution_count": null,
   "id": "d3edbc56",
   "metadata": {},
   "outputs": [],
   "source": [
    "from hips import *\n",
    "from hips.heuristics._bounds import HeuristicBounds, BoundDirection\n",
    "from hips.models import *\n",
    "from hips.solver import GurobiSolver, ClpSolver"
   ]
  },
  {
   "cell_type": "markdown",
   "id": "d053941d",
   "metadata": {},
   "source": [
    "Next we initialize a helper function, which allows us to load a model. The model represents the following MIP:\n",
    "$$\n",
    "\\begin{array}{lr@{}c@{}r@{}l}\n",
    "    \\text{maximize }   & x_1 + x_2  \\\\\n",
    "    \\text{subject to } & x_1 + \\frac{2}{3} x_2 \\leq 2 \\\\\n",
    "                       & x_1 + 3 x_2 \\leq 3 \\\\\n",
    "                       & x_1, x_2 \\leq 2\\\\\n",
    "                       & x_1, x_2 \\geq 0 \\\\\n",
    "                       & x_1, x_2 \\in \\mathbb{Z}\n",
    "\\end{array}\n",
    "$$"
   ]
  },
  {
   "cell_type": "code",
   "execution_count": null,
   "id": "6775681d",
   "metadata": {},
   "outputs": [],
   "source": [
    "def build_model(mip_model):\n",
    "    x = mip_model.add_variable(\"x\", VarTypes.INTEGER, lb=0, ub=2, dim=2)\n",
    "    constr1 = HIPSArray([1,2/3])*x <= 2\n",
    "    constr2 = HIPSArray([1,3])*x <= 3\n",
    "    mip_model.add_constraint(constr1)\n",
    "    mip_model.add_constraint(constr2)\n",
    "    obj_func = HIPSArray([1,1])*x\n",
    "    mip_model.set_objective(obj_func)\n",
    "    mip_model.lp_model.set_lp_sense(ProblemSense.MAX)"
   ]
  },
  {
   "cell_type": "markdown",
   "id": "74d87e91",
   "metadata": {},
   "source": [
    "### LOWER"
   ]
  },
  {
   "cell_type": "markdown",
   "id": "082f81c6",
   "metadata": {},
   "source": [
    "Now we can load this model and use the `HeuristicBounds` heuristic to solve it to the LOWER bound:"
   ]
  },
  {
   "cell_type": "code",
   "execution_count": null,
   "id": "30fac7bf",
   "metadata": {},
   "outputs": [],
   "source": [
    "# Test lower bound (LOWER) -> x* = [0,0]\n",
    "mip_model = MIPModel(GurobiSolver())\n",
    "build_model(mip_model)\n",
    "heur = HeuristicBounds(mip_model, BoundDirection.LOWER)\n",
    "heur.compute()\n",
    "print(\"Status: {}\".format(heur.get_status()))\n",
    "print(\"Found solution: {}\".format(heur.get_objective_value()))\n",
    "print(\"With Variable values: {}\".format({var: heur.variable_solution(var).to_numpy() for var in mip_model.get_variables()}))\n",
    "print(\"#---------------------------#\")"
   ]
  },
  {
   "cell_type": "markdown",
   "id": "3db9e2f7",
   "metadata": {},
   "source": [
    "### UPPER"
   ]
  },
  {
   "cell_type": "markdown",
   "id": "d0555814",
   "metadata": {},
   "source": [
    "Fixing the variables to their UPPER bound should yield an infeasible solution:"
   ]
  },
  {
   "cell_type": "code",
   "execution_count": null,
   "id": "6e360130",
   "metadata": {},
   "outputs": [],
   "source": [
    "#Test upper bound (UPPER) -> Infeasible\n",
    "mip_model = MIPModel(GurobiSolver())\n",
    "build_model(mip_model)\n",
    "heur = HeuristicBounds(mip_model, BoundDirection.UPPER)\n",
    "heur.compute()\n",
    "print(\"Status: {}\".format(heur.get_status()))\n",
    "print(\"#---------------------------#\")"
   ]
  },
  {
   "cell_type": "markdown",
   "id": "c4613cf3",
   "metadata": {},
   "source": [
    "### CLOSEST"
   ]
  },
  {
   "cell_type": "markdown",
   "id": "f0f27b91",
   "metadata": {},
   "source": [
    "At last we solve to the CLOSEST bounds:"
   ]
  },
  {
   "cell_type": "code",
   "execution_count": null,
   "id": "744a68d7",
   "metadata": {},
   "outputs": [],
   "source": [
    "#Test closest bound (CLOSEST) -> [2,0]\n",
    "mip_model = MIPModel(GurobiSolver())\n",
    "build_model(mip_model)\n",
    "heur = HeuristicBounds(mip_model, BoundDirection.CLOSEST)\n",
    "heur.compute()\n",
    "print(\"Status: {}\".format(heur.get_status()))\n",
    "print(\"Found solution: {}\".format(heur.get_objective_value()))\n",
    "print(\"With Variable values: {}\".format({var: heur.variable_solution(var).to_numpy() for var in mip_model.get_variables()}))\n",
    "print(\"#---------------------------#\")"
   ]
  }
 ],
 "metadata": {
  "kernelspec": {
   "display_name": "Python 3",
   "language": "python",
   "name": "python3"
  },
  "language_info": {
   "codemirror_mode": {
    "name": "ipython",
    "version": 3
   },
   "file_extension": ".py",
   "mimetype": "text/x-python",
   "name": "python",
   "nbconvert_exporter": "python",
   "pygments_lexer": "ipython3",
   "version": "3.8.8"
  }
 },
 "nbformat": 4,
 "nbformat_minor": 5
}
