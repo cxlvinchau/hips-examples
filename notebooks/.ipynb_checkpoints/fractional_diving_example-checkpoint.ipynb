{
 "cells": [
  {
   "cell_type": "markdown",
   "id": "d873c826",
   "metadata": {},
   "source": [
    "# Fractional Diving example"
   ]
  },
  {
   "cell_type": "markdown",
   "id": "f5958918",
   "metadata": {},
   "source": [
    "Fractional Diving is a diving heuristic, that bounds the variable $x_j$ with lowest fractionality $f(x_j)$ to the nearest integer."
   ]
  },
  {
   "cell_type": "markdown",
   "id": "96a1dff0",
   "metadata": {
    "id": "OrtQ45RzRVvy"
   },
   "source": [
    "## Installing the packages"
   ]
  },
  {
   "cell_type": "markdown",
   "id": "a2b636de",
   "metadata": {
    "id": "0Aed_OejRpnN"
   },
   "source": [
    "In the following we use the `GurobiSolver` and thus need to install gurobi."
   ]
  },
  {
   "cell_type": "code",
   "execution_count": null,
   "id": "c3ef22b6",
   "metadata": {},
   "outputs": [],
   "source": [
    "%%capture\n",
    "!pip install gurobipy"
   ]
  },
  {
   "cell_type": "markdown",
   "id": "dfd12c28",
   "metadata": {
    "id": "PPeo5praTpPi"
   },
   "source": [
    "Afterwards, we can install hips."
   ]
  },
  {
   "cell_type": "code",
   "execution_count": null,
   "id": "34a6e461",
   "metadata": {},
   "outputs": [],
   "source": [
    "%%capture\n",
    "!pip install https://github.com/cxlvinchau/hips/archive/master.zip"
   ]
  },
  {
   "cell_type": "markdown",
   "id": "253774e4",
   "metadata": {},
   "source": [
    "## Example"
   ]
  },
  {
   "cell_type": "markdown",
   "id": "9d36f0a5",
   "metadata": {},
   "source": [
    "First add the required imports:"
   ]
  },
  {
   "cell_type": "code",
   "execution_count": null,
   "id": "f7d4bd4e",
   "metadata": {},
   "outputs": [],
   "source": [
    "from hips import *\n",
    "from hips.models import *\n",
    "from hips.solver import GurobiSolver\n",
    "from hips.heuristics import FractionalDiving"
   ]
  },
  {
   "cell_type": "markdown",
   "id": "e4d180c4",
   "metadata": {},
   "source": [
    "Next we initialize a helper function, which allows us to load a model. The model represents the following MIP:\n",
    "$$\n",
    "\\begin{array}{lr@{}c@{}r@{}l}\n",
    "    \\text{maximize }   & x_1 + 2 x_2  \\\\\n",
    "    \\text{subject to } & -3 x_1 + 2 x_2 \\leq 2 \\\\\n",
    "                       & 2 x_1 + 2 x_2 \\leq 7 \\\\\n",
    "                       & x_1, x_2 \\geq 0 \\\\\n",
    "                       & x_1, x_2 \\in \\mathbb{Z}\n",
    "\\end{array}\n",
    "$$"
   ]
  },
  {
   "cell_type": "code",
   "execution_count": null,
   "id": "9ac2e699",
   "metadata": {},
   "outputs": [],
   "source": [
    "def build_model(mip_model):\n",
    "    x = mip_model.add_variable(\"x\", VarTypes.INTEGER, lb=0, ub=float(\"inf\"), dim=2)\n",
    "    constr1 = HIPSArray([-3,2])*x <= 2\n",
    "    constr2 = HIPSArray([2,2])*x <= 7\n",
    "    mip_model.add_constraint(constr1)\n",
    "    mip_model.add_constraint(constr2)\n",
    "    obj_func = HIPSArray([1,2])*x\n",
    "    mip_model.set_objective(obj_func)"
   ]
  },
  {
   "cell_type": "markdown",
   "id": "4a17915d",
   "metadata": {},
   "source": [
    "Now we can load this model:"
   ]
  },
  {
   "cell_type": "code",
   "execution_count": null,
   "id": "a84b0327",
   "metadata": {},
   "outputs": [],
   "source": [
    "mip_model = MIPModel(GurobiSolver())\n",
    "build_model(mip_model)"
   ]
  },
  {
   "cell_type": "markdown",
   "id": "33d2e26b",
   "metadata": {},
   "source": [
    "Next we create the `FractionalDiving` and compute a solution. For the first run we will override the `trivially_rounding` method, so we get the full effect of the heuristic."
   ]
  },
  {
   "cell_type": "code",
   "execution_count": null,
   "id": "e71d5d18",
   "metadata": {},
   "outputs": [],
   "source": [
    "heur = FractionalDiving(mip_model)\n",
    "heur._round_trivially = lambda :False\n",
    "heur.compute()\n",
    "\n",
    "print(\"Status: {}\".format(heur.get_status()))\n",
    "print(\"Found solution: {}\".format(heur.get_objective_value()))\n",
    "print(\"With Variable values: {}\".format({var: heur.variable_solution(var) for var in mip_model.get_variables()}))\n",
    "heur.tracker.plot(\"objective value\")"
   ]
  },
  {
   "cell_type": "markdown",
   "id": "cabddf59",
   "metadata": {},
   "source": [
    "Now we will use the `FractionalDiving` with the full functionality of `trivially_rounding`. Trivially rounding decides if a variable can be rounded up or down without leaving the feasible region. In the example, we can therefore find the solution after the first iteration."
   ]
  },
  {
   "cell_type": "code",
   "execution_count": null,
   "id": "b8ef3098",
   "metadata": {},
   "outputs": [],
   "source": [
    "mip_model = MIPModel(GurobiSolver())\n",
    "build_model(mip_model)"
   ]
  },
  {
   "cell_type": "code",
   "execution_count": null,
   "id": "02d84ae8",
   "metadata": {},
   "outputs": [],
   "source": [
    "heur = FractionalDiving(mip_model)\n",
    "heur.compute()\n",
    "\n",
    "print(\"Status: {}\".format(heur.get_status()))\n",
    "print(\"Found solution: {}\".format(heur.get_objective_value()))\n",
    "print(\"With Variable values: {}\".format({var: heur.variable_solution(var) for var in mip_model.get_variables()}))\n",
    "heur.tracker.plot(\"objective value\")"
   ]
  }
 ],
 "metadata": {
  "kernelspec": {
   "display_name": "Python 3",
   "language": "python",
   "name": "python3"
  },
  "language_info": {
   "codemirror_mode": {
    "name": "ipython",
    "version": 3
   },
   "file_extension": ".py",
   "mimetype": "text/x-python",
   "name": "python",
   "nbconvert_exporter": "python",
   "pygments_lexer": "ipython3",
   "version": "3.8.8"
  }
 },
 "nbformat": 4,
 "nbformat_minor": 5
}
