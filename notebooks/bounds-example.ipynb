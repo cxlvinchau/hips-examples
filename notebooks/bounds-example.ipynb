{
  "nbformat": 4,
  "nbformat_minor": 5,
  "metadata": {
    "kernelspec": {
      "display_name": "Python 3",
      "language": "python",
      "name": "python3"
    },
    "language_info": {
      "codemirror_mode": {
        "name": "ipython",
        "version": 3
      },
      "file_extension": ".py",
      "mimetype": "text/x-python",
      "name": "python",
      "nbconvert_exporter": "python",
      "pygments_lexer": "ipython3",
      "version": "3.8.8"
    },
    "colab": {
      "name": "bounds-example.ipynb",
      "provenance": []
    }
  },
  "cells": [
    {
      "cell_type": "markdown",
      "metadata": {
        "id": "d873c826"
      },
      "source": [
        "# HeuristicBounds example"
      ],
      "id": "d873c826"
    },
    {
      "cell_type": "markdown",
      "metadata": {
        "id": "f5958918"
      },
      "source": [
        "This heuristic is implemented after the scipopt primal heuristic 'heur_bounds.h'.\n",
        "The scipopt library describes this as a \"heuristic which fixes all integer variables to a bound (lower/upper) and solves the remaining LP \"."
      ],
      "id": "f5958918"
    },
    {
      "cell_type": "markdown",
      "metadata": {
        "id": "96a1dff0"
      },
      "source": [
        "## Installing the packages"
      ],
      "id": "96a1dff0"
    },
    {
      "cell_type": "markdown",
      "metadata": {
        "id": "a2b636de"
      },
      "source": [
        "In the following we use the `GurobiSolver` and thus need to install gurobi."
      ],
      "id": "a2b636de"
    },
    {
      "cell_type": "code",
      "metadata": {
        "id": "72a7041c"
      },
      "source": [
        "%%capture\n",
        "!pip install gurobipy"
      ],
      "id": "72a7041c",
      "execution_count": null,
      "outputs": []
    },
    {
      "cell_type": "markdown",
      "metadata": {
        "id": "dfd12c28"
      },
      "source": [
        "Afterwards, we can install hips."
      ],
      "id": "dfd12c28"
    },
    {
      "cell_type": "code",
      "metadata": {
        "id": "d9d2e23d"
      },
      "source": [
        "%%capture\n",
        "!pip install https://github.com/cxlvinchau/hips/archive/master.zip"
      ],
      "id": "d9d2e23d",
      "execution_count": null,
      "outputs": []
    },
    {
      "cell_type": "markdown",
      "metadata": {
        "id": "e45d601a"
      },
      "source": [
        "## Example"
      ],
      "id": "e45d601a"
    },
    {
      "cell_type": "markdown",
      "metadata": {
        "id": "9d36f0a5"
      },
      "source": [
        "First add the required imports:"
      ],
      "id": "9d36f0a5"
    },
    {
      "cell_type": "code",
      "metadata": {
        "id": "d3edbc56"
      },
      "source": [
        "from hips import HIPSArray, VarTypes, ProblemSense, BoundDirection\n",
        "from hips.models import MIPModel\n",
        "from hips.solver import GurobiSolver\n",
        "from hips.heuristics import HeuristicBounds"
      ],
      "id": "d3edbc56",
      "execution_count": null,
      "outputs": []
    },
    {
      "cell_type": "markdown",
      "metadata": {
        "id": "d053941d"
      },
      "source": [
        "Next we initialize a helper function, which allows us to load a model. The model represents the following MIP:\n",
        "$$\n",
        "\\begin{array}{lr@{}c@{}r@{}l}\n",
        "    \\text{maximize }   & x_1 + x_2  \\\\\n",
        "    \\text{subject to } & x_1 + \\frac{2}{3} x_2 \\leq 2 \\\\\n",
        "                       & x_1 + 3 x_2 \\leq 3 \\\\\n",
        "                       & x_1, x_2 \\leq 2\\\\\n",
        "                       & x_1, x_2 \\geq 0 \\\\\n",
        "                       & x_1, x_2 \\in \\mathbb{Z}\n",
        "\\end{array}\n",
        "$$"
      ],
      "id": "d053941d"
    },
    {
      "cell_type": "code",
      "metadata": {
        "id": "6775681d"
      },
      "source": [
        "def build_model(mip_model):\n",
        "    x = mip_model.add_variable(\"x\", VarTypes.INTEGER, lb=0, ub=2, dim=2)\n",
        "    constr1 = HIPSArray([1,2/3])*x <= 2\n",
        "    constr2 = HIPSArray([1,3])*x <= 3\n",
        "    mip_model.add_constraint(constr1)\n",
        "    mip_model.add_constraint(constr2)\n",
        "    obj_func = HIPSArray([1,1])*x\n",
        "    mip_model.set_objective(obj_func)\n",
        "    mip_model.lp_model.set_lp_sense(ProblemSense.MAX)"
      ],
      "id": "6775681d",
      "execution_count": null,
      "outputs": []
    },
    {
      "cell_type": "markdown",
      "metadata": {
        "id": "74d87e91"
      },
      "source": [
        "### LOWER"
      ],
      "id": "74d87e91"
    },
    {
      "cell_type": "markdown",
      "metadata": {
        "id": "082f81c6"
      },
      "source": [
        "Now we can load this model and use the `HeuristicBounds` heuristic to solve it to the LOWER bound:"
      ],
      "id": "082f81c6"
    },
    {
      "cell_type": "code",
      "metadata": {
        "id": "30fac7bf"
      },
      "source": [
        "# Test lower bound (LOWER) -> x* = [0,0]\n",
        "mip_model = MIPModel(GurobiSolver())\n",
        "build_model(mip_model)\n",
        "heur = HeuristicBounds(mip_model, BoundDirection.LOWER)\n",
        "heur.compute()\n",
        "print(\"Status: {}\".format(heur.get_status()))\n",
        "print(\"Found solution: {}\".format(heur.get_objective_value()))\n",
        "print(\"With Variable values: {}\".format({var: heur.variable_solution(var).to_numpy() for var in mip_model.get_variables()}))\n",
        "print(\"#---------------------------#\")"
      ],
      "id": "30fac7bf",
      "execution_count": null,
      "outputs": []
    },
    {
      "cell_type": "markdown",
      "metadata": {
        "id": "3db9e2f7"
      },
      "source": [
        "### UPPER"
      ],
      "id": "3db9e2f7"
    },
    {
      "cell_type": "markdown",
      "metadata": {
        "id": "d0555814"
      },
      "source": [
        "Fixing the variables to their UPPER bound should yield an infeasible solution:"
      ],
      "id": "d0555814"
    },
    {
      "cell_type": "code",
      "metadata": {
        "id": "6e360130"
      },
      "source": [
        "# Test upper bound (UPPER) -> Infeasible\n",
        "mip_model = MIPModel(GurobiSolver())\n",
        "build_model(mip_model)\n",
        "heur = HeuristicBounds(mip_model, BoundDirection.UPPER)\n",
        "heur.compute()\n",
        "print(\"Status: {}\".format(heur.get_status()))\n",
        "print(\"#---------------------------#\")"
      ],
      "id": "6e360130",
      "execution_count": null,
      "outputs": []
    },
    {
      "cell_type": "markdown",
      "metadata": {
        "id": "c4613cf3"
      },
      "source": [
        "### CLOSEST"
      ],
      "id": "c4613cf3"
    },
    {
      "cell_type": "markdown",
      "metadata": {
        "id": "f0f27b91"
      },
      "source": [
        "At last we solve to the CLOSEST bounds:"
      ],
      "id": "f0f27b91"
    },
    {
      "cell_type": "code",
      "metadata": {
        "id": "744a68d7"
      },
      "source": [
        "# Test closest bound (CLOSEST) -> [2,0]\n",
        "mip_model = MIPModel(GurobiSolver())\n",
        "build_model(mip_model)\n",
        "heur = HeuristicBounds(mip_model, BoundDirection.CLOSEST)\n",
        "heur.compute()\n",
        "print(\"Status: {}\".format(heur.get_status()))\n",
        "print(\"Found solution: {}\".format(heur.get_objective_value()))\n",
        "print(\"With Variable values: {}\".format({var: heur.variable_solution(var).to_numpy() for var in mip_model.get_variables()}))\n",
        "print(\"#---------------------------#\")"
      ],
      "id": "744a68d7",
      "execution_count": null,
      "outputs": []
    }
  ]
}