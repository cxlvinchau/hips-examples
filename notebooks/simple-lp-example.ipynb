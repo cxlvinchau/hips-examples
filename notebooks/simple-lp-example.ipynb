{
  "nbformat": 4,
  "nbformat_minor": 0,
  "metadata": {
    "kernelspec": {
      "display_name": "Python 3",
      "language": "python",
      "name": "python3"
    },
    "language_info": {
      "codemirror_mode": {
        "name": "ipython",
        "version": 3
      },
      "file_extension": ".py",
      "mimetype": "text/x-python",
      "name": "python",
      "nbconvert_exporter": "python",
      "pygments_lexer": "ipython3",
      "version": "3.8.5"
    },
    "colab": {
      "name": "simple-lp-example.ipynb",
      "provenance": []
    }
  },
  "cells": [
    {
      "cell_type": "markdown",
      "metadata": {
        "id": "Q7k2qhFEX0uk"
      },
      "source": [
        "# Simple linear program\n",
        "\n",
        "Let us start with defining a linear program in HIPS. First, we need to decide which solver we would like to use. In this example we use the `GurobiSolver`, but any other supported solver also works. Under the hood, HIPS adds variables and constraints directly to the concrete solver to increase efficiency."
      ]
    },
    {
      "cell_type": "markdown",
      "metadata": {
        "id": "z0g5z6JHYK6P"
      },
      "source": [
        "## Installing the packages"
      ]
    },
    {
      "cell_type": "code",
      "metadata": {
        "id": "uBLEDGYKXxWN"
      },
      "source": [
        "%%capture\n",
        "!pip install gurobipy"
      ],
      "execution_count": null,
      "outputs": []
    },
    {
      "cell_type": "markdown",
      "metadata": {
        "id": "a8k6yiA9YCYr"
      },
      "source": [
        "Afterwards, we can install hips."
      ]
    },
    {
      "cell_type": "code",
      "metadata": {
        "id": "q4T1kDGyYAIN"
      },
      "source": [
        "%%capture\n",
        "!pip install https://github.com/cxlvinchau/hips/archive/master.zip"
      ],
      "execution_count": null,
      "outputs": []
    },
    {
      "cell_type": "markdown",
      "metadata": {
        "id": "YS5KpW3sYMv_"
      },
      "source": [
        "## Example 1"
      ]
    },
    {
      "cell_type": "markdown",
      "metadata": {
        "id": "PYxtYhItYW1j"
      },
      "source": [
        "**Creating the model**"
      ]
    },
    {
      "cell_type": "code",
      "metadata": {
        "id": "9hcVUWnyYNdb"
      },
      "source": [
        "from hips import ProblemSense\n",
        "from hips.solver import GurobiSolver\n",
        "from hips.models import LPModel\n",
        "\n",
        "# Create solver\n",
        "solver = GurobiSolver()\n",
        "# Create LP model\n",
        "model = LPModel(solver)\n",
        "# Create variables\n",
        "x_1, x_2 = model.add_variable(\"x_1\", lb=0), model.add_variable(\"x_2\", lb=0)\n",
        "# Set sense\n",
        "model.set_lp_sense(ProblemSense.MAX)\n",
        "# Set objective\n",
        "model.set_objective(2*x_1 + 4*x_2)\n",
        "# Add constraints\n",
        "model.add_constraint(x_1 + 2*x_2 <= 20)\n",
        "model.add_constraint(3*x_1 - x_2 <= 10)"
      ],
      "execution_count": null,
      "outputs": []
    },
    {
      "cell_type": "markdown",
      "metadata": {
        "id": "METETQM-YYN1"
      },
      "source": [
        "**Optimizing the model**"
      ]
    },
    {
      "cell_type": "code",
      "metadata": {
        "id": "ZCthpNpoYZXC"
      },
      "source": [
        "model.optimize()"
      ],
      "execution_count": null,
      "outputs": []
    },
    {
      "cell_type": "markdown",
      "metadata": {
        "id": "g_IOLMcDYf0p"
      },
      "source": [
        "**Output the objective value**"
      ]
    },
    {
      "cell_type": "code",
      "metadata": {
        "id": "c9pp67gZYfDg"
      },
      "source": [
        "model.get_objective_value()"
      ],
      "execution_count": null,
      "outputs": []
    },
    {
      "cell_type": "markdown",
      "metadata": {
        "id": "w6rxuT9_Ywb1"
      },
      "source": [
        "**Output values of the variables**"
      ]
    },
    {
      "cell_type": "code",
      "metadata": {
        "id": "GW-fI3KIYtVk"
      },
      "source": [
        "print(f\"x_1: {model.variable_solution(x_1)}\")\n",
        "print(f\"x_2: {model.variable_solution(x_2)}\")"
      ],
      "execution_count": null,
      "outputs": []
    },
    {
      "cell_type": "markdown",
      "metadata": {
        "id": "dJK3lFp7Y1eZ"
      },
      "source": [
        "Note that the values of variables is a `HIPSArray`."
      ]
    },
    {
      "cell_type": "markdown",
      "metadata": {
        "id": "riM3T6g9Y9bp"
      },
      "source": [
        "## Example 2"
      ]
    },
    {
      "cell_type": "markdown",
      "metadata": {
        "id": "pF6HinXvZA49"
      },
      "source": [
        "**Creating the model**"
      ]
    },
    {
      "cell_type": "code",
      "metadata": {
        "id": "tMX4kJNBY-eE"
      },
      "source": [
        "from hips import ProblemSense\n",
        "from hips.solver import GurobiSolver\n",
        "from hips.models import LPModel, HIPSArray\n",
        "\n",
        "# Create solver\n",
        "solver = GurobiSolver()\n",
        "# Create LP model\n",
        "model = LPModel(solver)\n",
        "# Create 2 dim. variable with lower bound 0\n",
        "x = model.add_variable(\"x\", lb=0, dim=2)\n",
        "# Set sense\n",
        "model.set_lp_sense(ProblemSense.MAX)\n",
        "# Set objective\n",
        "model.set_objective(HIPSArray([2, 4]) * x)\n",
        "# Add constraint\n",
        "model.add_constraint(HIPSArray([[1, 2], [3, -1]]) * x <= HIPSArray([20, 10]))"
      ],
      "execution_count": null,
      "outputs": []
    },
    {
      "cell_type": "markdown",
      "metadata": {
        "id": "5Y0wzVRMZM7W"
      },
      "source": [
        "**Optimizing the model**"
      ]
    },
    {
      "cell_type": "code",
      "metadata": {
        "id": "1yZ5YgbvZbIV"
      },
      "source": [
        "model.optimize()"
      ],
      "execution_count": null,
      "outputs": []
    },
    {
      "cell_type": "markdown",
      "metadata": {
        "id": "9C1pi52RZNCO"
      },
      "source": [
        "**Output the objective value**\n"
      ]
    },
    {
      "cell_type": "code",
      "metadata": {
        "id": "SlFbNHgZZKfM"
      },
      "source": [
        "model.get_objective_value()"
      ],
      "execution_count": null,
      "outputs": []
    },
    {
      "cell_type": "markdown",
      "metadata": {
        "id": "d7VealmxZVKH"
      },
      "source": [
        "**Output the value of the variable**"
      ]
    },
    {
      "cell_type": "code",
      "metadata": {
        "id": "jz1v11w7ZXLR"
      },
      "source": [
        "model.variable_solution(x)"
      ],
      "execution_count": null,
      "outputs": []
    }
  ]
}