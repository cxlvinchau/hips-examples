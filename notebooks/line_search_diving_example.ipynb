{
  "nbformat": 4,
  "nbformat_minor": 5,
  "metadata": {
    "kernelspec": {
      "display_name": "Python 3",
      "language": "python",
      "name": "python3"
    },
    "language_info": {
      "codemirror_mode": {
        "name": "ipython",
        "version": 3
      },
      "file_extension": ".py",
      "mimetype": "text/x-python",
      "name": "python",
      "nbconvert_exporter": "python",
      "pygments_lexer": "ipython3",
      "version": "3.8.8"
    },
    "colab": {
      "name": "line_search_diving_example.ipynb",
      "provenance": []
    }
  },
  "cells": [
    {
      "cell_type": "markdown",
      "metadata": {
        "id": "d873c826"
      },
      "source": [
        "# Line Search Diving example"
      ],
      "id": "d873c826"
    },
    {
      "cell_type": "markdown",
      "metadata": {
        "id": "f5958918"
      },
      "source": [
        "Now we consider the Line Search Diving heuristic as presented by [[Hen11]](file:///home/calvin/Repositories/hips/docs/_build/html/references.html#id7). As the name suggests, this heuristic follows the general structure of a diving heuristic, i.e. bounds are introduced or variables are fixed to explore a branch of a branch and bound tree."
      ],
      "id": "f5958918"
    },
    {
      "cell_type": "markdown",
      "metadata": {
        "id": "96a1dff0"
      },
      "source": [
        "## Installing the packages"
      ],
      "id": "96a1dff0"
    },
    {
      "cell_type": "markdown",
      "metadata": {
        "id": "a2b636de"
      },
      "source": [
        "In the following we use the `ClpSolver` and thus need to install various binaries and CyLP."
      ],
      "id": "a2b636de"
    },
    {
      "cell_type": "code",
      "metadata": {
        "id": "c3ef22b6"
      },
      "source": [
        "%%capture\n",
        "!sudo apt-get install -y git pkg-config coinor-libcbc-dev coinor-libosi-dev coinor-libcoinutils-dev coinor-libcgl-dev\n",
        "!export COIN_INSTALL_DIR=/usr/\n",
        "!pip install --pre cylp"
      ],
      "id": "c3ef22b6",
      "execution_count": null,
      "outputs": []
    },
    {
      "cell_type": "markdown",
      "metadata": {
        "id": "dfd12c28"
      },
      "source": [
        "Afterwards, we can install hips."
      ],
      "id": "dfd12c28"
    },
    {
      "cell_type": "code",
      "metadata": {
        "id": "34a6e461"
      },
      "source": [
        "%%capture\n",
        "!pip install https://github.com/cxlvinchau/hips/archive/master.zip"
      ],
      "id": "34a6e461",
      "execution_count": null,
      "outputs": []
    },
    {
      "cell_type": "markdown",
      "metadata": {
        "id": "253774e4"
      },
      "source": [
        "## Example"
      ],
      "id": "253774e4"
    },
    {
      "cell_type": "markdown",
      "metadata": {
        "id": "9d36f0a5"
      },
      "source": [
        "First, let us import the packages."
      ],
      "id": "9d36f0a5"
    },
    {
      "cell_type": "code",
      "metadata": {
        "id": "5n5MHTLsgVa3"
      },
      "source": [
        "from hips import load_problem_clp\n",
        "from hips.heuristics import LineSearchDiving"
      ],
      "id": "5n5MHTLsgVa3",
      "execution_count": null,
      "outputs": []
    },
    {
      "cell_type": "markdown",
      "metadata": {
        "id": "X-uIQej2gfcb"
      },
      "source": [
        "Next, we load the ``gr4x6`` problem obtained from [MIPLIB2017](https://miplib.zib.de/instance_details_gr4x6.html). The problem comes with HIPS, so there is no need to download any files."
      ],
      "id": "X-uIQej2gfcb"
    },
    {
      "cell_type": "code",
      "metadata": {
        "id": "xdHO8P90gpCC"
      },
      "source": [
        "mip_model = load_problem_clp(\"gr4x6\")"
      ],
      "id": "xdHO8P90gpCC",
      "execution_count": null,
      "outputs": []
    },
    {
      "cell_type": "markdown",
      "metadata": {
        "id": "Bn3nOPYcguej"
      },
      "source": [
        "Next, we instantiate the diving heuristic."
      ],
      "id": "Bn3nOPYcguej"
    },
    {
      "cell_type": "code",
      "metadata": {
        "id": "7T7gpTGlg0NF"
      },
      "source": [
        "diver = LineSearchDiving(mip_model)"
      ],
      "id": "7T7gpTGlg0NF",
      "execution_count": null,
      "outputs": []
    },
    {
      "cell_type": "markdown",
      "metadata": {
        "id": "7HwZNYMig1Qm"
      },
      "source": [
        "For demonstration purposes, we override the `trivially_rounding` method, so we get the full effect of the heuristic."
      ],
      "id": "7HwZNYMig1Qm"
    },
    {
      "cell_type": "code",
      "metadata": {
        "id": "dIR-Q4Fyg0kU"
      },
      "source": [
        "diver._round_trivially = lambda : False"
      ],
      "id": "dIR-Q4Fyg0kU",
      "execution_count": null,
      "outputs": []
    },
    {
      "cell_type": "markdown",
      "metadata": {
        "id": "ehe0Yc1chTIx"
      },
      "source": [
        "Finally, we start the computation and output the obtained solution."
      ],
      "id": "ehe0Yc1chTIx"
    },
    {
      "cell_type": "code",
      "metadata": {
        "id": "tsFIzmkohStP"
      },
      "source": [
        "diver.compute()\n",
        "\n",
        "print(f\"Status: {diver.get_status()}\")\n",
        "print(f\"Found solution: {diver.get_objective_value()}\")\n",
        "print(f\"With Variable values: { {var: diver.variable_solution(var) for var in mip_model.get_variables()} }\")"
      ],
      "id": "tsFIzmkohStP",
      "execution_count": null,
      "outputs": []
    }
  ]
}