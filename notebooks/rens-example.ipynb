{
  "nbformat": 4,
  "nbformat_minor": 0,
  "metadata": {
    "colab": {
      "name": "rens-example.ipynb",
      "provenance": []
    },
    "language_info": {
      "name": "python"
    },
    "kernelspec": {
      "name": "python3",
      "display_name": "Python 3"
    }
  },
  "cells": [
    {
      "cell_type": "markdown",
      "metadata": {
        "id": "x7LhuNXoQbP_"
      },
      "source": [
        "# RENS example"
      ]
    },
    {
      "cell_type": "markdown",
      "metadata": {
        "id": "9X6Bo1zVQgnw"
      },
      "source": [
        "Relaxation enforced neighborhood search, or short RENS, introduced by [[Ber13]](https://cxlvinchau.github.io/hips/references.html#id5) is a heuristic for heuristically solving mixed-integer programs with binary and integer variables. The idea is to solve the relaxation of the problem and use the solution of the relaxed solution to introduce new bounds."
      ]
    },
    {
      "cell_type": "markdown",
      "metadata": {
        "id": "OrtQ45RzRVvy"
      },
      "source": [
        "## Installing the packages"
      ]
    },
    {
      "cell_type": "markdown",
      "metadata": {
        "id": "0Aed_OejRpnN"
      },
      "source": [
        "In the following we use the `GurobiSolver` and thus need to install gurobi."
      ]
    },
    {
      "cell_type": "code",
      "metadata": {
        "id": "cdEO66xTQcXk"
      },
      "source": [
        "%%capture\n",
        "!pip install gurobipy"
      ],
      "execution_count": null,
      "outputs": []
    },
    {
      "cell_type": "markdown",
      "metadata": {
        "id": "PPeo5praTpPi"
      },
      "source": [
        "Afterwards, we can install hips."
      ]
    },
    {
      "cell_type": "code",
      "metadata": {
        "id": "SZIDU11hTrbe"
      },
      "source": [
        "%%capture\n",
        "!pip install https://github.com/cxlvinchau/hips/archive/master.zip"
      ],
      "execution_count": null,
      "outputs": []
    },
    {
      "cell_type": "markdown",
      "metadata": {
        "id": "uwPUabdgRxpt"
      },
      "source": [
        "## Example"
      ]
    },
    {
      "cell_type": "markdown",
      "metadata": {
        "id": "5TaiibKkUKm1"
      },
      "source": [
        "First, we need to import the dependencies."
      ]
    },
    {
      "cell_type": "code",
      "metadata": {
        "id": "8DoUoxUBRuDG"
      },
      "source": [
        "from hips import load_problem\n",
        "from hips.heuristics import RENS"
      ],
      "execution_count": null,
      "outputs": []
    },
    {
      "cell_type": "markdown",
      "metadata": {
        "id": "wc3Moyn5Ug3Z"
      },
      "source": [
        "Now let us load a problem. In this example we load the `gen-ip054` example from MIPLIB 2017. The example can be found [here](https://miplib2017.zib.de/instance_details_gen-ip054.html)."
      ]
    },
    {
      "cell_type": "code",
      "metadata": {
        "id": "8hhx99BZUfIo"
      },
      "source": [
        "mip = load_problem(\"gen-ip054\")"
      ],
      "execution_count": null,
      "outputs": []
    },
    {
      "cell_type": "markdown",
      "metadata": {
        "id": "oc3pw0DbU-7p"
      },
      "source": [
        "Then, we can instantiate `RENS` and start the computation. Note that `max_iter=100` means that we visit at most 100 nodes in the branch and bound tree."
      ]
    },
    {
      "cell_type": "code",
      "metadata": {
        "id": "tJP_cFxNTHZz"
      },
      "source": [
        "rens = RENS(mip)\n",
        "rens.compute(max_iter=100)"
      ],
      "execution_count": null,
      "outputs": []
    },
    {
      "cell_type": "markdown",
      "metadata": {
        "id": "g809B8UEVUem"
      },
      "source": [
        "Finally, let us output the found objective value:"
      ]
    },
    {
      "cell_type": "code",
      "metadata": {
        "id": "E9o9U-d-VM04"
      },
      "source": [
        "rens.get_objective_value()"
      ],
      "execution_count": null,
      "outputs": []
    },
    {
      "cell_type": "markdown",
      "metadata": {
        "id": "xzMohhAhVfuA"
      },
      "source": [
        "Lastly, we output the solution for the problem:"
      ]
    },
    {
      "cell_type": "code",
      "metadata": {
        "id": "pUGxMff6VP87"
      },
      "source": [
        "{var: rens.variable_solution(var) for var in mip.get_variables()}"
      ],
      "execution_count": null,
      "outputs": []
    }
  ]
}