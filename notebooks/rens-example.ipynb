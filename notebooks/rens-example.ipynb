{
 "cells": [
  {
   "cell_type": "markdown",
   "metadata": {
    "id": "x7LhuNXoQbP_"
   },
   "source": [
    "# RENS example"
   ]
  },
  {
   "cell_type": "markdown",
   "metadata": {
    "id": "9X6Bo1zVQgnw"
   },
   "source": [
    "Relaxation enforced neighborhood search, or short RENS, introduced by [[Ber13]](https://cxlvinchau.github.io/hips/references.html#id5) is a heuristic for heuristically solving mixed-integer programs with binary and integer variables. The idea is to solve the relaxation of the problem and use the solution of the relaxed solution to introduce new bounds."
   ]
  },
  {
   "cell_type": "markdown",
   "metadata": {
    "id": "OrtQ45RzRVvy"
   },
   "source": [
    "## Installing the packages"
   ]
  },
  {
   "cell_type": "markdown",
   "metadata": {
    "id": "0Aed_OejRpnN"
   },
   "source": [
    "In the following we use the `GurobiSolver` and thus need to install gurobi."
   ]
  },
  {
   "cell_type": "code",
   "execution_count": null,
   "metadata": {
    "id": "cdEO66xTQcXk"
   },
   "outputs": [],
   "source": [
    "%%capture\n",
    "!pip install gurobipy"
   ]
  },
  {
   "cell_type": "markdown",
   "metadata": {
    "id": "PPeo5praTpPi"
   },
   "source": [
    "Afterwards, we can install hips."
   ]
  },
  {
   "cell_type": "code",
   "execution_count": null,
   "metadata": {
    "id": "SZIDU11hTrbe"
   },
   "outputs": [],
   "source": [
    "%%capture\n",
    "!pip install https://github.com/cxlvinchau/hips/archive/master.zip"
   ]
  },
  {
   "cell_type": "markdown",
   "metadata": {
    "id": "uwPUabdgRxpt"
   },
   "source": [
    "## Example"
   ]
  },
  {
   "cell_type": "markdown",
   "metadata": {
    "id": "5TaiibKkUKm1"
   },
   "source": [
    "First, we need to import the dependencies."
   ]
  },
  {
   "cell_type": "code",
   "execution_count": null,
   "metadata": {
    "id": "8DoUoxUBRuDG"
   },
   "outputs": [],
   "source": [
    "from hips import load_problem\n",
    "from hips.heuristics import RENS"
   ]
  },
  {
   "cell_type": "markdown",
   "metadata": {
    "id": "wc3Moyn5Ug3Z"
   },
   "source": [
    "Now let us load a problem. In this example we load the `gen-ip054` example from MIPLIB 2017. The example can be found [here](https://miplib2017.zib.de/instance_details_gen-ip054.html)."
   ]
  },
  {
   "cell_type": "code",
   "execution_count": null,
   "metadata": {
    "id": "8hhx99BZUfIo"
   },
   "outputs": [],
   "source": [
    "mip = load_problem(\"gen-ip054\")"
   ]
  },
  {
   "cell_type": "markdown",
   "metadata": {
    "id": "oc3pw0DbU-7p"
   },
   "source": [
    "Then, we can instantiate `RENS` and start the computation. Note that `max_iter=100` means that we visit at most 100 nodes in the branch and bound tree."
   ]
  },
  {
   "cell_type": "code",
   "execution_count": null,
   "metadata": {
    "id": "tJP_cFxNTHZz"
   },
   "outputs": [],
   "source": [
    "rens = RENS(mip)\n",
    "rens.compute(max_iter=100)"
   ]
  },
  {
   "cell_type": "markdown",
   "metadata": {
    "id": "g809B8UEVUem"
   },
   "source": [
    "Finally, let us output the found objective value:"
   ]
  },
  {
   "cell_type": "code",
   "execution_count": null,
   "metadata": {
    "id": "E9o9U-d-VM04"
   },
   "outputs": [],
   "source": [
    "rens.get_objective_value()"
   ]
  },
  {
   "cell_type": "markdown",
   "metadata": {
    "id": "xzMohhAhVfuA"
   },
   "source": [
    "Lastly, we output the solution for the problem:"
   ]
  },
  {
   "cell_type": "code",
   "execution_count": null,
   "metadata": {
    "id": "pUGxMff6VP87"
   },
   "outputs": [],
   "source": [
    "{var: rens.variable_solution(var) for var in mip.get_variables()}"
   ]
  }
 ],
 "metadata": {
  "colab": {
   "name": "rens-example.ipynb",
   "provenance": []
  },
  "kernelspec": {
   "display_name": "Python 3",
   "language": "python",
   "name": "python3"
  },
  "language_info": {
   "codemirror_mode": {
    "name": "ipython",
    "version": 3
   },
   "file_extension": ".py",
   "mimetype": "text/x-python",
   "name": "python",
   "nbconvert_exporter": "python",
   "pygments_lexer": "ipython3",
   "version": "3.8.8"
  }
 },
 "nbformat": 4,
 "nbformat_minor": 1
}
