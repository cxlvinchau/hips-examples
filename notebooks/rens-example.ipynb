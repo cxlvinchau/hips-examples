{
  "nbformat": 4,
  "nbformat_minor": 0,
  "metadata": {
    "colab": {
      "name": "rens-example.ipynb",
      "provenance": [],
      "include_colab_link": true
    },
    "language_info": {
      "name": "python"
    },
    "kernelspec": {
      "name": "python3",
      "display_name": "Python 3"
    }
  },
  "cells": [
    {
      "cell_type": "markdown",
      "metadata": {
        "id": "view-in-github",
        "colab_type": "text"
      },
      "source": [
        "<a href=\"https://colab.research.google.com/github/cxlvinchau/hips-examples/blob/main/notebooks/rens-example.ipynb\" target=\"_parent\"><img src=\"https://colab.research.google.com/assets/colab-badge.svg\" alt=\"Open In Colab\"/></a>"
      ]
    },
    {
      "cell_type": "markdown",
      "metadata": {
        "id": "x7LhuNXoQbP_"
      },
      "source": [
        "# RENS example"
      ]
    },
    {
      "cell_type": "markdown",
      "metadata": {
        "id": "9X6Bo1zVQgnw"
      },
      "source": [
        "Relaxation enforced neighborhood search, or short RENS, introduced by [[Ber13]](https://cxlvinchau.github.io/hips/references.html#id5) is a heuristic for heuristically solving mixed-integer programs with binary and integer variables. The idea is to solve the relaxation of the problem and use the solution of the relaxed solution to introduce new bounds."
      ]
    },
    {
      "cell_type": "markdown",
      "metadata": {
        "id": "OrtQ45RzRVvy"
      },
      "source": [
        "## Installing `hips`"
      ]
    },
    {
      "cell_type": "markdown",
      "metadata": {
        "id": "0Aed_OejRpnN"
      },
      "source": [
        "Run the cell below to install hips:"
      ]
    },
    {
      "cell_type": "code",
      "metadata": {
        "id": "cdEO66xTQcXk"
      },
      "source": [
        "%%capture\n",
        "!pip install gurobipy\n",
        "!pip install https://github.com/cxlvinchau/hips/archive/master.zip"
      ],
      "execution_count": 6,
      "outputs": []
    },
    {
      "cell_type": "markdown",
      "metadata": {
        "id": "uwPUabdgRxpt"
      },
      "source": [
        "## Example"
      ]
    },
    {
      "cell_type": "code",
      "metadata": {
        "id": "8DoUoxUBRuDG",
        "outputId": "6a9819f1-4fb4-45de-c3da-210b4a1996f6",
        "colab": {
          "base_uri": "https://localhost:8080/"
        }
      },
      "source": [
        "from hips import load_problem\n",
        "from hips.heuristics import RENS\n",
        "\n",
        "# Load a problem\n",
        "mip = load_problem(\"gen-ip054\")\n",
        "# Instantiate heuristic with MIP\n",
        "rens = RENS(mip)\n",
        "# Start the computation\n",
        "rens.compute(max_iter=100)\n",
        "# Print the objective value\n",
        "print(rens.get_objective_value())\n",
        "# Print the solution\n",
        "print({var: rens.variable_solution(var) for var in mip.get_variables()})"
      ],
      "execution_count": 1,
      "outputs": [
        {
          "output_type": "stream",
          "text": [
            "Restricted license - for non-production use only - expires 2022-01-13\n"
          ],
          "name": "stdout"
        },
        {
          "output_type": "stream",
          "text": [
            "/usr/local/lib/python3.7/dist-packages/hips/solver/__init__.py:11: UserWarning: CyLP does not seem to be installed\n",
            "  warnings.warn(\"CyLP does not seem to be installed\")\n",
            "INFO:gurobipy.gurobipy:Restricted license - for non-production use only - expires 2022-01-13\n"
          ],
          "name": "stderr"
        },
        {
          "output_type": "stream",
          "text": [
            "7291.068488385001\n",
            "{Variable(int): HIPSArray([2. 2. 1. 3. 2. 0. 0. 1. 1. 0. 0. 1. 0. 2. 1. 0. 1. 3. 1. 0. 1. 3. 1. 1.\n",
            " 6. 0. 0. 1. 0. 0.])}\n"
          ],
          "name": "stdout"
        }
      ]
    },
    {
      "cell_type": "code",
      "metadata": {
        "id": "tJP_cFxNTHZz"
      },
      "source": [
        ""
      ],
      "execution_count": null,
      "outputs": []
    }
  ]
}