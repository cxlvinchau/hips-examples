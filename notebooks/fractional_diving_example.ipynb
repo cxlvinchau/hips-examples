{
  "nbformat": 4,
  "nbformat_minor": 5,
  "metadata": {
    "kernelspec": {
      "display_name": "Python 3",
      "language": "python",
      "name": "python3"
    },
    "language_info": {
      "codemirror_mode": {
        "name": "ipython",
        "version": 3
      },
      "file_extension": ".py",
      "mimetype": "text/x-python",
      "name": "python",
      "nbconvert_exporter": "python",
      "pygments_lexer": "ipython3",
      "version": "3.8.8"
    },
    "colab": {
      "name": "fractional_diving_example.ipynb",
      "provenance": []
    }
  },
  "cells": [
    {
      "cell_type": "markdown",
      "metadata": {
        "id": "d873c826"
      },
      "source": [
        "# Fractional Diving example"
      ],
      "id": "d873c826"
    },
    {
      "cell_type": "markdown",
      "metadata": {
        "id": "f5958918"
      },
      "source": [
        "Fractional Diving is a diving heuristic, that bounds the variable $x_j$ with lowest fractionality $f(x_j)$ to the nearest integer."
      ],
      "id": "f5958918"
    },
    {
      "cell_type": "markdown",
      "metadata": {
        "id": "96a1dff0"
      },
      "source": [
        "## Installing the packages"
      ],
      "id": "96a1dff0"
    },
    {
      "cell_type": "markdown",
      "metadata": {
        "id": "a2b636de"
      },
      "source": [
        "In the following we use the `GurobiSolver` and thus need to install gurobi."
      ],
      "id": "a2b636de"
    },
    {
      "cell_type": "code",
      "metadata": {
        "id": "c3ef22b6"
      },
      "source": [
        "%%capture\n",
        "!pip install gurobipy"
      ],
      "id": "c3ef22b6",
      "execution_count": null,
      "outputs": []
    },
    {
      "cell_type": "markdown",
      "metadata": {
        "id": "dfd12c28"
      },
      "source": [
        "Afterwards, we can install hips."
      ],
      "id": "dfd12c28"
    },
    {
      "cell_type": "code",
      "metadata": {
        "id": "34a6e461"
      },
      "source": [
        "%%capture\n",
        "!pip install https://github.com/cxlvinchau/hips/archive/master.zip"
      ],
      "id": "34a6e461",
      "execution_count": null,
      "outputs": []
    },
    {
      "cell_type": "markdown",
      "metadata": {
        "id": "253774e4"
      },
      "source": [
        "## Example"
      ],
      "id": "253774e4"
    },
    {
      "cell_type": "markdown",
      "metadata": {
        "id": "9d36f0a5"
      },
      "source": [
        "First add the required imports:"
      ],
      "id": "9d36f0a5"
    },
    {
      "cell_type": "code",
      "metadata": {
        "id": "f7d4bd4e"
      },
      "source": [
        "from hips import HIPSArray, VarTypes\n",
        "from hips.models import MIPModel\n",
        "from hips.solver import GurobiSolver\n",
        "from hips.heuristics import FractionalDiving "
      ],
      "id": "f7d4bd4e",
      "execution_count": null,
      "outputs": []
    },
    {
      "cell_type": "markdown",
      "metadata": {
        "id": "e4d180c4"
      },
      "source": [
        "Next we initialize a helper function, which allows us to load a model. The model represents the following MIP:\n",
        "$$\n",
        "\\begin{array}{lr@{}c@{}r@{}l}\n",
        "    \\text{maximize }   & x_1 + 2 x_2  \\\\\n",
        "    \\text{subject to } & -3 x_1 + 2 x_2 \\leq 2 \\\\\n",
        "                       & 2 x_1 + 2 x_2 \\leq 7 \\\\\n",
        "                       & x_1, x_2 \\geq 0 \\\\\n",
        "                       & x_1, x_2 \\in \\mathbb{Z}\n",
        "\\end{array}\n",
        "$$"
      ],
      "id": "e4d180c4"
    },
    {
      "cell_type": "code",
      "metadata": {
        "id": "9ac2e699"
      },
      "source": [
        "def build_model(mip_model):\n",
        "    x = mip_model.add_variable(\"x\", VarTypes.INTEGER, lb=0, ub=float(\"inf\"), dim=2)\n",
        "    constr1 = HIPSArray([-3,2])*x <= 2\n",
        "    constr2 = HIPSArray([2,2])*x <= 7\n",
        "    mip_model.add_constraint(constr1)\n",
        "    mip_model.add_constraint(constr2)\n",
        "    obj_func = HIPSArray([1,2])*x\n",
        "    mip_model.set_objective(obj_func)"
      ],
      "id": "9ac2e699",
      "execution_count": null,
      "outputs": []
    },
    {
      "cell_type": "markdown",
      "metadata": {
        "id": "4a17915d"
      },
      "source": [
        "Now we can load this model:"
      ],
      "id": "4a17915d"
    },
    {
      "cell_type": "code",
      "metadata": {
        "id": "a84b0327"
      },
      "source": [
        "mip_model = MIPModel(GurobiSolver())\n",
        "build_model(mip_model)"
      ],
      "id": "a84b0327",
      "execution_count": null,
      "outputs": []
    },
    {
      "cell_type": "markdown",
      "metadata": {
        "id": "33d2e26b"
      },
      "source": [
        "Next we create the `FractionalDiving` and compute a solution. For the first run we will override the `trivially_rounding` method, so we get the full effect of the heuristic."
      ],
      "id": "33d2e26b"
    },
    {
      "cell_type": "code",
      "metadata": {
        "id": "e71d5d18"
      },
      "source": [
        "%matplotlib inline\n",
        "heur = FractionalDiving(mip_model)\n",
        "heur._round_trivially = lambda :False\n",
        "heur.compute()\n",
        "\n",
        "print(\"Status: {}\".format(heur.get_status()))\n",
        "print(\"Found solution: {}\".format(heur.get_objective_value()))\n",
        "print(\"With Variable values: {}\".format({var: heur.variable_solution(var) for var in mip_model.get_variables()}))\n",
        "heur.tracker.plot(\"objective value\")"
      ],
      "id": "e71d5d18",
      "execution_count": null,
      "outputs": []
    },
    {
      "cell_type": "markdown",
      "metadata": {
        "id": "cabddf59"
      },
      "source": [
        "Now we will use the `FractionalDiving` with the full functionality of `trivially_rounding`. Trivially rounding decides if a variable can be rounded up or down without leaving the feasible region. In the example, we can therefore find the solution after the first iteration."
      ],
      "id": "cabddf59"
    },
    {
      "cell_type": "code",
      "metadata": {
        "id": "b8ef3098"
      },
      "source": [
        "mip_model = MIPModel(GurobiSolver())\n",
        "build_model(mip_model)"
      ],
      "id": "b8ef3098",
      "execution_count": null,
      "outputs": []
    },
    {
      "cell_type": "code",
      "metadata": {
        "id": "02d84ae8"
      },
      "source": [
        "%matplotlib inline\n",
        "heur = FractionalDiving(mip_model)\n",
        "heur.compute()\n",
        "\n",
        "print(\"Status: {}\".format(heur.get_status()))\n",
        "print(\"Found solution: {}\".format(heur.get_objective_value()))\n",
        "print(\"With Variable values: {}\".format({var: heur.variable_solution(var) for var in mip_model.get_variables()}))\n",
        "heur.tracker.plot(\"objective value\")"
      ],
      "id": "02d84ae8",
      "execution_count": null,
      "outputs": []
    }
  ]
}