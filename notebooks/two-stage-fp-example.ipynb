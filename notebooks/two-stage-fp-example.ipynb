{
  "nbformat": 4,
  "nbformat_minor": 0,
  "metadata": {
    "colab": {
      "name": "rens-example.ipynb",
      "provenance": []
    },
    "language_info": {
      "name": "python"
    },
    "kernelspec": {
      "name": "python3",
      "display_name": "Python 3"
    }
  },
  "cells": [
    {
      "cell_type": "markdown",
      "metadata": {
        "id": "x7LhuNXoQbP_"
      },
      "source": [
        "# Two Stage Feasibility Pump example"
      ]
    },
    {
      "cell_type": "markdown",
      "metadata": {
        "id": "9X6Bo1zVQgnw"
      },
      "source": [
        "The Two Stage Feasibility pump proposed by [[BFL07]](https://cxlvinchau.github.io/hips/references.html#id5) is an extension of the Feasibility Pump [[FGL05]](https://cxlvinchau.github.io/hips/references.html#id4) and can be used to solve general mixed integer programs, i.e. programs containing binary and integer variables. In contrast, the original feasibility pump is only designed for mixed integer programs containing binary variables only."
      ]
    },
    {
      "cell_type": "markdown",
      "metadata": {
        "id": "OrtQ45RzRVvy"
      },
      "source": [
        "## Installing the packages"
      ]
    },
    {
      "cell_type": "markdown",
      "metadata": {
        "id": "0Aed_OejRpnN"
      },
      "source": [
        "In the following we use the `GurobiSolver` and thus need to install gurobi."
      ]
    },
    {
      "cell_type": "code",
      "metadata": {
        "id": "cdEO66xTQcXk"
      },
      "source": [
        "%%capture\n",
        "!pip install gurobipy"
      ],
      "execution_count": null,
      "outputs": []
    },
    {
      "cell_type": "markdown",
      "metadata": {
        "id": "PPeo5praTpPi"
      },
      "source": [
        "Afterwards, we can install hips."
      ]
    },
    {
      "cell_type": "code",
      "metadata": {
        "id": "SZIDU11hTrbe"
      },
      "source": [
        "%%capture\n",
        "!pip install https://github.com/cxlvinchau/hips/archive/master.zip"
      ],
      "execution_count": null,
      "outputs": []
    },
    {
      "cell_type": "markdown",
      "metadata": {
        "id": "uwPUabdgRxpt"
      },
      "source": [
        "## Example"
      ]
    },
    {
      "cell_type": "markdown",
      "metadata": {
        "id": "5TaiibKkUKm1"
      },
      "source": [
        "First, we need to import the dependencies."
      ]
    },
    {
      "cell_type": "code",
      "metadata": {
        "id": "8DoUoxUBRuDG"
      },
      "source": [
        "from hips import load_problem\n",
        "from hips.heuristics import TwoStageFeasibilityPump"
      ],
      "execution_count": null,
      "outputs": []
    },
    {
      "cell_type": "markdown",
      "metadata": {
        "id": "wc3Moyn5Ug3Z"
      },
      "source": [
        "Now let us load a problem. In this example we load the `bppc8-02` example from MIPLIB 2017. The example can be found [here](http://miplib2017.zib.de/instance_details_bppc8-02.html)."
      ]
    },
    {
      "cell_type": "code",
      "metadata": {
        "id": "8hhx99BZUfIo"
      },
      "source": [
        "mip = load_problem(\"bppc8-02\")"
      ],
      "execution_count": null,
      "outputs": []
    },
    {
      "cell_type": "markdown",
      "metadata": {
        "id": "oc3pw0DbU-7p"
      },
      "source": [
        "Then, we can instantiate `TwoStageFeasibilityPump` and start the computation. Note that `max_iter=100` specifies the number of iterations spent in each stage."
      ]
    },
    {
      "cell_type": "code",
      "metadata": {
        "id": "tJP_cFxNTHZz"
      },
      "source": [
        "fp = TwoStageFeasibilityPump(mip)\n",
        "fp.compute(max_iter=100)"
      ],
      "execution_count": null,
      "outputs": []
    },
    {
      "cell_type": "markdown",
      "metadata": {
        "id": "g809B8UEVUem"
      },
      "source": [
        "Finally, let us output the found objective value:"
      ]
    },
    {
      "cell_type": "code",
      "metadata": {
        "id": "E9o9U-d-VM04"
      },
      "source": [
        "fp.get_objective_value()"
      ],
      "execution_count": null,
      "outputs": []
    },
    {
      "cell_type": "markdown",
      "metadata": {
        "id": "xzMohhAhVfuA"
      },
      "source": [
        "Lastly, we output the solution for the problem:"
      ]
    },
    {
      "cell_type": "code",
      "metadata": {
        "id": "pUGxMff6VP87"
      },
      "source": [
        "{var: fp.variable_solution(var) for var in mip.get_variables()}"
      ],
      "execution_count": null,
      "outputs": []
    }
  ]
}