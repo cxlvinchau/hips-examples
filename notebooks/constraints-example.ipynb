{
  "nbformat": 4,
  "nbformat_minor": 0,
  "metadata": {
    "kernelspec": {
      "display_name": "Python 3",
      "language": "python",
      "name": "python3"
    },
    "language_info": {
      "codemirror_mode": {
        "name": "ipython",
        "version": 3
      },
      "file_extension": ".py",
      "mimetype": "text/x-python",
      "name": "python",
      "nbconvert_exporter": "python",
      "pygments_lexer": "ipython3",
      "version": "3.8.5"
    },
    "colab": {
      "name": "constraints-example.ipynb",
      "provenance": []
    }
  },
  "cells": [
    {
      "cell_type": "markdown",
      "metadata": {
        "id": "Leve2Xcwbr9c"
      },
      "source": [
        "# High-dimensional constraints"
      ]
    },
    {
      "cell_type": "markdown",
      "metadata": {
        "id": "z0g5z6JHYK6P"
      },
      "source": [
        "## Installing the packages"
      ]
    },
    {
      "cell_type": "code",
      "metadata": {
        "id": "uBLEDGYKXxWN"
      },
      "source": [
        "%%capture\n",
        "!pip install gurobipy"
      ],
      "execution_count": null,
      "outputs": []
    },
    {
      "cell_type": "markdown",
      "metadata": {
        "id": "a8k6yiA9YCYr"
      },
      "source": [
        "Afterwards, we can install hips."
      ]
    },
    {
      "cell_type": "code",
      "metadata": {
        "id": "q4T1kDGyYAIN"
      },
      "source": [
        "%%capture\n",
        "!pip install https://github.com/cxlvinchau/hips/archive/master.zip"
      ],
      "execution_count": null,
      "outputs": []
    },
    {
      "cell_type": "markdown",
      "metadata": {
        "id": "vBPuw4lPbsCw"
      },
      "source": [
        "## Example 1"
      ]
    },
    {
      "cell_type": "code",
      "metadata": {
        "id": "7wF6bXv8b4Vq"
      },
      "source": [
        "from hips.models import LPModel, HIPSArray\n",
        "from hips.solver import GurobiSolver\n",
        "\n",
        "model = LPModel(GurobiSolver())\n",
        "x, y = model.add_variable(\"x\", dim=2), model.add_variable(\"y\", dim=3)\n",
        "A = HIPSArray([[1, 1], [2, 0]])\n",
        "B = HIPSArray([[1, 2, 3], [1, 0, 1]])\n",
        "b = HIPSArray([10, 20])\n",
        "constr = A*x + B*y >= b"
      ],
      "execution_count": null,
      "outputs": []
    },
    {
      "cell_type": "markdown",
      "metadata": {
        "id": "UR1q5F8QcBOb"
      },
      "source": [
        "## Example 2"
      ]
    },
    {
      "cell_type": "code",
      "metadata": {
        "id": "YkuUgQ7ccKmY"
      },
      "source": [
        "from hips.models import HIPSArray\n",
        "import numpy as np"
      ],
      "execution_count": null,
      "outputs": []
    },
    {
      "cell_type": "markdown",
      "metadata": {
        "id": "b4ymF-e1cEkO"
      },
      "source": [
        "**Creating a 4x4 identity matrix**"
      ]
    },
    {
      "cell_type": "code",
      "metadata": {
        "id": "jpXqzxWmcDfv"
      },
      "source": [
        "HIPSArray(np.identity(4))"
      ],
      "execution_count": null,
      "outputs": []
    },
    {
      "cell_type": "markdown",
      "metadata": {
        "id": "HudRzk9Zcu2r"
      },
      "source": [
        "**Creating a 2x3 matrix with zeros**"
      ]
    },
    {
      "cell_type": "code",
      "metadata": {
        "id": "EJ03Nm6Gcxx0"
      },
      "source": [
        "HIPSArray(np.zeros((2, 3)))"
      ],
      "execution_count": null,
      "outputs": []
    },
    {
      "cell_type": "markdown",
      "metadata": {
        "id": "jVc9oJrOc9Dl"
      },
      "source": [
        "**Creating a simple numpy array**"
      ]
    },
    {
      "cell_type": "code",
      "metadata": {
        "id": "WncCIEerc0hy"
      },
      "source": [
        "HIPSArray(np.array([1, 2, 3]))"
      ],
      "execution_count": null,
      "outputs": []
    }
  ]
}