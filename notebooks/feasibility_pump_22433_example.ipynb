{
  "nbformat": 4,
  "nbformat_minor": 5,
  "metadata": {
    "kernelspec": {
      "display_name": "Python 3",
      "language": "python",
      "name": "python3"
    },
    "language_info": {
      "codemirror_mode": {
        "name": "ipython",
        "version": 3
      },
      "file_extension": ".py",
      "mimetype": "text/x-python",
      "name": "python",
      "nbconvert_exporter": "python",
      "pygments_lexer": "ipython3",
      "version": "3.8.8"
    },
    "colab": {
      "name": "feasibility_pump_22433_example.ipynb",
      "provenance": []
    }
  },
  "cells": [
    {
      "cell_type": "markdown",
      "metadata": {
        "id": "d873c826"
      },
      "source": [
        "# Feasibility Pump example"
      ],
      "id": "d873c826"
    },
    {
      "cell_type": "markdown",
      "metadata": {
        "id": "MUu-1YbmEe3m"
      },
      "source": [
        "The Feasibility Pump is the heuristic is responsible for the idea to this module and therefore the core heuristic of HIPS. First proposed in 2005 by Fischetti et al. [[FGL05]](https://cxlvinchau.github.io/hips/references.html#id4), the Feasibility Pump aims to compute a feasible solution to an MIP without the need for an initial solution. The heuristic is also described in [[Ber06]](https://cxlvinchau.github.io/hips/references.html#id2)."
      ],
      "id": "MUu-1YbmEe3m"
    },
    {
      "cell_type": "markdown",
      "metadata": {
        "id": "96a1dff0"
      },
      "source": [
        "## Installing the packages"
      ],
      "id": "96a1dff0"
    },
    {
      "cell_type": "markdown",
      "metadata": {
        "id": "a2b636de"
      },
      "source": [
        "In the following we use the `ClpSolver` and thus need to install various binaries and CyLP."
      ],
      "id": "a2b636de"
    },
    {
      "cell_type": "code",
      "metadata": {
        "id": "72a7041c"
      },
      "source": [
        "%%capture\n",
        "!sudo apt-get install -y git pkg-config coinor-libcbc-dev coinor-libosi-dev coinor-libcoinutils-dev coinor-libcgl-dev\n",
        "!export COIN_INSTALL_DIR=/usr/\n",
        "!pip install --pre cylp"
      ],
      "id": "72a7041c",
      "execution_count": null,
      "outputs": []
    },
    {
      "cell_type": "markdown",
      "metadata": {
        "id": "dfd12c28"
      },
      "source": [
        "Afterwards, we can install HIPS."
      ],
      "id": "dfd12c28"
    },
    {
      "cell_type": "code",
      "metadata": {
        "id": "d9d2e23d"
      },
      "source": [
        "%%capture\n",
        "!pip install https://github.com/cxlvinchau/hips/archive/master.zip"
      ],
      "id": "d9d2e23d",
      "execution_count": null,
      "outputs": []
    },
    {
      "cell_type": "markdown",
      "metadata": {
        "id": "e45d601a"
      },
      "source": [
        "## Example"
      ],
      "id": "e45d601a"
    },
    {
      "cell_type": "markdown",
      "metadata": {
        "id": "9d36f0a5"
      },
      "source": [
        "First add the required imports:"
      ],
      "id": "9d36f0a5"
    },
    {
      "cell_type": "code",
      "metadata": {
        "id": "ebd15e0f"
      },
      "source": [
        "from hips import load_problem, ProblemSense\n",
        "from hips.heuristics import FeasibilityPump"
      ],
      "id": "ebd15e0f",
      "execution_count": null,
      "outputs": []
    },
    {
      "cell_type": "markdown",
      "metadata": {
        "id": "ce42323a"
      },
      "source": [
        "Now let us load a problem. In this example we load the `22433` example from MIPLIB 2017. The example can be found [here](https://miplib.zib.de/instance_details_22433.html)."
      ],
      "id": "ce42323a"
    },
    {
      "cell_type": "code",
      "metadata": {
        "id": "a3896b80"
      },
      "source": [
        "mip_model = load_problem(\"22433\")\n",
        "mip_model.summary()"
      ],
      "id": "a3896b80",
      "execution_count": null,
      "outputs": []
    },
    {
      "cell_type": "markdown",
      "metadata": {
        "id": "b766327d"
      },
      "source": [
        "Now let us create Feasibility Pump and specify the iteration maximum `max_iter` to 1000 and the perturbation factor `t` to 15:"
      ],
      "id": "b766327d"
    },
    {
      "cell_type": "code",
      "metadata": {
        "id": "38e2102e"
      },
      "source": [
        "heur = FeasibilityPump(mip_model, t=15)\n",
        "heur.compute(max_iter=1000)"
      ],
      "id": "38e2102e",
      "execution_count": null,
      "outputs": []
    },
    {
      "cell_type": "markdown",
      "metadata": {
        "id": "ff564793"
      },
      "source": [
        "Now let us inspect the solution found:"
      ],
      "id": "ff564793"
    },
    {
      "cell_type": "code",
      "metadata": {
        "id": "696eb068"
      },
      "source": [
        "import matplotlib\n",
        "%matplotlib inline\n",
        "print(\"Status: {}\".format(heur.get_status()))\n",
        "print(\"Found solution: {}\".format(heur.get_objective_value()))\n",
        "heur.tracker.plot(\"feasibility objective\")"
      ],
      "id": "696eb068",
      "execution_count": null,
      "outputs": []
    }
  ]
}