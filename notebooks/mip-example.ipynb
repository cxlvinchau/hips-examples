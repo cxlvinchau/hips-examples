{
  "nbformat": 4,
  "nbformat_minor": 0,
  "metadata": {
    "kernelspec": {
      "display_name": "Python 3",
      "language": "python",
      "name": "python3"
    },
    "language_info": {
      "codemirror_mode": {
        "name": "ipython",
        "version": 3
      },
      "file_extension": ".py",
      "mimetype": "text/x-python",
      "name": "python",
      "nbconvert_exporter": "python",
      "pygments_lexer": "ipython3",
      "version": "3.8.5"
    },
    "colab": {
      "name": "mps-example.ipynb",
      "provenance": []
    }
  },
  "cells": [
    {
      "cell_type": "markdown",
      "metadata": {
        "id": "0i7BAsbFeLad"
      },
      "source": [
        "# Mixed-integer program example\n",
        "Now, let us consider the following mixed-integer program:\n",
        "\n",
        "![mip.png](data:image/png;base64,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)"
      ]
    },
    {
      "cell_type": "markdown",
      "metadata": {
        "id": "z0g5z6JHYK6P"
      },
      "source": [
        "## Installing the packages"
      ]
    },
    {
      "cell_type": "code",
      "metadata": {
        "id": "uBLEDGYKXxWN"
      },
      "source": [
        "%%capture\n",
        "!pip install gurobipy"
      ],
      "execution_count": 1,
      "outputs": []
    },
    {
      "cell_type": "markdown",
      "metadata": {
        "id": "a8k6yiA9YCYr"
      },
      "source": [
        "Afterwards, we can install hips."
      ]
    },
    {
      "cell_type": "code",
      "metadata": {
        "id": "q4T1kDGyYAIN"
      },
      "source": [
        "%%capture\n",
        "!pip install https://github.com/cxlvinchau/hips/archive/master.zip"
      ],
      "execution_count": 2,
      "outputs": []
    },
    {
      "cell_type": "markdown",
      "metadata": {
        "id": "t9mpf7DKfi1W"
      },
      "source": [
        "## Example"
      ]
    },
    {
      "cell_type": "code",
      "metadata": {
        "id": "yVGCbhsog8my",
        "colab": {
          "base_uri": "https://localhost:8080/"
        },
        "outputId": "40acb799-7489-48dd-9134-5cb9e2c5fd45"
      },
      "source": [
        "from hips.solver import GurobiSolver\n",
        "from hips.models import MIPModel\n",
        "from hips import ProblemSense, VarTypes"
      ],
      "execution_count": 3,
      "outputs": [
        {
          "output_type": "stream",
          "text": [
            "/usr/local/lib/python3.7/dist-packages/hips/solver/__init__.py:11: UserWarning: CyLP does not seem to be installed\n",
            "  warnings.warn(\"CyLP does not seem to be installed\")\n"
          ],
          "name": "stderr"
        }
      ]
    },
    {
      "cell_type": "markdown",
      "metadata": {
        "id": "ZbGMFUDrfkii"
      },
      "source": [
        "**Create solver**"
      ]
    },
    {
      "cell_type": "code",
      "metadata": {
        "id": "3DukwGpGeGSU",
        "colab": {
          "base_uri": "https://localhost:8080/"
        },
        "outputId": "583dd9e9-2f61-4972-e17a-c84cc1a17871"
      },
      "source": [
        "solver = GurobiSolver()"
      ],
      "execution_count": 4,
      "outputs": [
        {
          "output_type": "stream",
          "text": [
            "Restricted license - for non-production use only - expires 2022-01-13\n"
          ],
          "name": "stdout"
        }
      ]
    },
    {
      "cell_type": "markdown",
      "metadata": {
        "id": "D6A7h9uYg3vG"
      },
      "source": [
        "**Create MIP model**"
      ]
    },
    {
      "cell_type": "code",
      "metadata": {
        "id": "YWWgo6Frg5UV"
      },
      "source": [
        "model = MIPModel(solver)"
      ],
      "execution_count": 5,
      "outputs": []
    },
    {
      "cell_type": "markdown",
      "metadata": {
        "id": "DChlsu3nhDJ5"
      },
      "source": [
        "**Create variables with lower bound 0**"
      ]
    },
    {
      "cell_type": "code",
      "metadata": {
        "id": "2CKTow53g6qx"
      },
      "source": [
        "# Integer variable\n",
        "x_1 = model.add_variable(\"x_1\", lb=0, ub=20, var_type=VarTypes.INTEGER)\n",
        "# Continuous variable\n",
        "x_2 = model.add_variable(\"x_2\", lb=0)"
      ],
      "execution_count": 6,
      "outputs": []
    },
    {
      "cell_type": "markdown",
      "metadata": {
        "id": "ekwxPCqah8Hg"
      },
      "source": [
        "**Add constraints**"
      ]
    },
    {
      "cell_type": "code",
      "metadata": {
        "id": "Q4Hizz0MiAD8"
      },
      "source": [
        "model.add_constraint(x_1 + 2*x_2 <= 20)\n",
        "model.add_constraint(3*x_1 - x_2 <= 10)"
      ],
      "execution_count": 7,
      "outputs": []
    },
    {
      "cell_type": "markdown",
      "metadata": {
        "id": "m971_QF3hiI2"
      },
      "source": [
        "**Set sense**"
      ]
    },
    {
      "cell_type": "code",
      "metadata": {
        "id": "xvgrR8L6hi7b"
      },
      "source": [
        "model.set_mip_sense(ProblemSense.MAX)"
      ],
      "execution_count": 8,
      "outputs": []
    },
    {
      "cell_type": "markdown",
      "metadata": {
        "id": "FLFYA0CNhr9-"
      },
      "source": [
        "**Set objective**"
      ]
    },
    {
      "cell_type": "code",
      "metadata": {
        "id": "lOSS2uJThjW2"
      },
      "source": [
        "model.set_objective(2*x_1 + 4*x_2)"
      ],
      "execution_count": 9,
      "outputs": []
    },
    {
      "cell_type": "markdown",
      "metadata": {
        "id": "JAHsugzcBj_0"
      },
      "source": [
        "### Optimizing the problem using branch and bound"
      ]
    },
    {
      "cell_type": "markdown",
      "metadata": {
        "id": "bFx73UvkB6NX"
      },
      "source": [
        "**Import ``BranchAndBound`` and optimize**"
      ]
    },
    {
      "cell_type": "code",
      "metadata": {
        "id": "Dm0OVODjBnGW"
      },
      "source": [
        "from hips.solver import BranchAndBound\n",
        "\n",
        "bb = BranchAndBound(model)\n",
        "bb.optimize()"
      ],
      "execution_count": 10,
      "outputs": []
    },
    {
      "cell_type": "markdown",
      "metadata": {
        "id": "apYg6HskBwcr"
      },
      "source": [
        "**Output optimal solution**"
      ]
    },
    {
      "cell_type": "code",
      "metadata": {
        "colab": {
          "base_uri": "https://localhost:8080/"
        },
        "id": "f-9C0S0ZBrW-",
        "outputId": "47c5541b-5b4b-440d-8997-888525dc1e86"
      },
      "source": [
        "bb.get_incumbent()"
      ],
      "execution_count": 11,
      "outputs": [
        {
          "output_type": "execute_result",
          "data": {
            "text/plain": [
              "{Variable(x_1): HIPSArray([0.]), Variable(x_2): HIPSArray([10.])}"
            ]
          },
          "metadata": {
            "tags": []
          },
          "execution_count": 11
        }
      ]
    },
    {
      "cell_type": "markdown",
      "metadata": {
        "id": "48NyN56BB1Ey"
      },
      "source": [
        "**Output optimal objective value**"
      ]
    },
    {
      "cell_type": "code",
      "metadata": {
        "colab": {
          "base_uri": "https://localhost:8080/"
        },
        "id": "anuIi5tCB4-T",
        "outputId": "28e12ba3-d8d0-443b-a72f-d9c4bbbe5e4e"
      },
      "source": [
        "bb.get_incumbent_val()"
      ],
      "execution_count": 12,
      "outputs": [
        {
          "output_type": "execute_result",
          "data": {
            "text/plain": [
              "40.0"
            ]
          },
          "metadata": {
            "tags": []
          },
          "execution_count": 12
        }
      ]
    }
  ]
}
