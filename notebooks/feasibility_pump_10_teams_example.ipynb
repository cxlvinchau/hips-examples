{
 "cells": [
  {
   "cell_type": "markdown",
   "id": "d873c826",
   "metadata": {
    "id": "d873c826"
   },
   "source": [
    "# Feasibility Pump example"
   ]
  },
  {
   "cell_type": "markdown",
   "id": "MUu-1YbmEe3m",
   "metadata": {
    "id": "MUu-1YbmEe3m"
   },
   "source": [
    "The Feasibility Pump is the heuristic is responsible for the idea to this module and therefore the core heuristic of HIPS. First proposed in 2005 by Fischetti et al. [[FGL05]](https://cxlvinchau.github.io/hips/references.html#id4), the Feasibility Pump aims to compute a feasible solution to an MIP without the need for an initial solution. The heuristic is also described in [[Ber06]](https://cxlvinchau.github.io/hips/references.html#id2)."
   ]
  },
  {
   "cell_type": "markdown",
   "id": "96a1dff0",
   "metadata": {
    "id": "96a1dff0"
   },
   "source": [
    "## Installing the packages"
   ]
  },
  {
   "cell_type": "markdown",
   "id": "a2b636de",
   "metadata": {
    "id": "a2b636de"
   },
   "source": [
    "In the following we use the `ClpSolver` and thus need to install various binaries and CyLP."
   ]
  },
  {
   "cell_type": "code",
   "execution_count": null,
   "id": "72a7041c",
   "metadata": {
    "id": "72a7041c"
   },
   "outputs": [],
   "source": [
    "%%capture\n",
    "!sudo apt-get install -y git pkg-config coinor-libcbc-dev coinor-libosi-dev coinor-libcoinutils-dev coinor-libcgl-dev\n",
    "!export COIN_INSTALL_DIR=/usr/\n",
    "!pip install --pre cylp"
   ]
  },
  {
   "cell_type": "markdown",
   "id": "dfd12c28",
   "metadata": {
    "id": "dfd12c28"
   },
   "source": [
    "Afterwards, we can install HIPS."
   ]
  },
  {
   "cell_type": "code",
   "execution_count": null,
   "id": "d9d2e23d",
   "metadata": {
    "id": "d9d2e23d"
   },
   "outputs": [],
   "source": [
    "%%capture\n",
    "!pip install https://github.com/cxlvinchau/hips/archive/master.zip"
   ]
  },
  {
   "cell_type": "markdown",
   "id": "e45d601a",
   "metadata": {
    "id": "e45d601a"
   },
   "source": [
    "## Example"
   ]
  },
  {
   "cell_type": "markdown",
   "id": "9d36f0a5",
   "metadata": {
    "id": "9d36f0a5"
   },
   "source": [
    "First add the required imports:"
   ]
  },
  {
   "cell_type": "code",
   "execution_count": null,
   "id": "ebd15e0f",
   "metadata": {
    "id": "ebd15e0f"
   },
   "outputs": [],
   "source": [
    "from hips import load_problem, ProblemSense\n",
    "from hips.heuristics import FeasibilityPump"
   ]
  },
  {
   "cell_type": "markdown",
   "id": "ce42323a",
   "metadata": {
    "id": "ce42323a"
   },
   "source": [
    "Now let us load a problem. In this example we load the `10teams` example from MIPLIB 2017. The example can be found [here](https://miplib.zib.de/instance_details_10teams.html)."
   ]
  },
  {
   "cell_type": "code",
   "execution_count": null,
   "id": "a3896b80",
   "metadata": {
    "id": "a3896b80"
   },
   "outputs": [],
   "source": [
    "mip_model = load_problem(\"10teams\")\n",
    "mip_model.summary()"
   ]
  },
  {
   "cell_type": "markdown",
   "id": "b766327d",
   "metadata": {
    "id": "b766327d"
   },
   "source": [
    "Now let us create Feasibility Pump and specify the iteration maximum `max_iter` to 1000 and the perturbation factor `t` to 15:"
   ]
  },
  {
   "cell_type": "code",
   "execution_count": null,
   "id": "38e2102e",
   "metadata": {
    "id": "38e2102e"
   },
   "outputs": [],
   "source": [
    "heur = FeasibilityPump(mip_model, t=15)\n",
    "heur.compute(max_iter=1000)"
   ]
  },
  {
   "cell_type": "markdown",
   "id": "ff564793",
   "metadata": {
    "id": "ff564793"
   },
   "source": [
    "Now let us inspect the solution found:"
   ]
  },
  {
   "cell_type": "code",
   "execution_count": null,
   "id": "696eb068",
   "metadata": {
    "id": "696eb068"
   },
   "outputs": [],
   "source": [
    "import matplotlib\n",
    "%matplotlib inline\n",
    "print(\"Status: {}\".format(heur.get_status()))\n",
    "print(\"Found solution: {}\".format(heur.get_objective_value()))\n",
    "heur.tracker.plot(\"feasibility objective\")"
   ]
  },
  {
   "cell_type": "markdown",
   "id": "6f4346db",
   "metadata": {
    "id": "6f4346db"
   },
   "source": [
    "### Playing with the parameter "
   ]
  },
  {
   "cell_type": "markdown",
   "id": "64787285",
   "metadata": {
    "id": "64787285"
   },
   "source": [
    "The Feasibility Pump can achieve quite different solutions, depending on the parameter `t`. \n",
    "This parameter represent how many variables we perturb, in case a cycle is detected. Let us therefore play with its values.\n",
    "To avoid different outcomes in the following experiments, we will furthermore set a seed for the Feasibility Pump."
   ]
  },
  {
   "cell_type": "code",
   "execution_count": null,
   "id": "4e0b9de6",
   "metadata": {
    "id": "4e0b9de6"
   },
   "outputs": [],
   "source": [
    "import time\n",
    "import numpy as np"
   ]
  },
  {
   "cell_type": "markdown",
   "id": "ebc95c1e",
   "metadata": {
    "id": "ebc95c1e"
   },
   "source": [
    "We will start of with a high value for `t`:"
   ]
  },
  {
   "cell_type": "code",
   "execution_count": null,
   "id": "1f1e4afc",
   "metadata": {
    "id": "1f1e4afc"
   },
   "outputs": [],
   "source": [
    "print(\"#-------- Start experiment 1 --------#\")\n",
    "\n",
    "feasible = []\n",
    "times = []\n",
    "test_number = 5\n",
    "for i in range(test_number):\n",
    "    mip_model = load_problem(\"10teams\")\n",
    "\n",
    "    mip_model.set_mip_sense(ProblemSense.MIN)\n",
    "    start = time.time()\n",
    "\n",
    "    fs = FeasibilityPump(mip_model, t=30, seed=i)\n",
    "    fs.compute(1000)\n",
    "\n",
    "    end = time.time()\n",
    "\n",
    "    sol = {var: fs.variable_solution(var) for var in mip_model.lp_model.vars}\n",
    "    feasible.append(mip_model.is_feasible(sol))\n",
    "\n",
    "    times.append(end-start)\n",
    "    print(\"Model {} solved.\".format(i))\n",
    "\n",
    "print(\"#----------------------------------#\")\n",
    "print(\"Feasible solutions found in {} tests: {}\".format(test_number, sum(feasible)))\n",
    "\n",
    "print(times)\n",
    "print(\"Average time consumed: {}s\".format(sum(times)/len(times)))\n",
    "\n",
    "times = np.array(times)\n",
    "feasible_times = times[np.array(feasible)]\n",
    "print(\"Average time consumed for feasible solutions: {}s\".format(sum(feasible_times)/len(feasible_times)))\n"
   ]
  },
  {
   "cell_type": "markdown",
   "id": "6d6f4853",
   "metadata": {
    "id": "6d6f4853"
   },
   "source": [
    "We should observe, that every run of the Feasibility Pump has found a solution. The average runtime is rather high.\n",
    "\n",
    "Now we will do the same computations with a lower value for `t`:"
   ]
  },
  {
   "cell_type": "code",
   "execution_count": null,
   "id": "fa77e2ad",
   "metadata": {
    "id": "fa77e2ad"
   },
   "outputs": [],
   "source": [
    "print(\"#-------- Start experiment 2 --------#\")\n",
    "\n",
    "feasible = []\n",
    "times = []\n",
    "test_number = 5\n",
    "for i in range(test_number):\n",
    "    mip_model = load_problem(\"10teams\")\n",
    "\n",
    "    mip_model.set_mip_sense(ProblemSense.MIN)\n",
    "    start = time.time()\n",
    "\n",
    "    fs = FeasibilityPump(mip_model, t=6, seed=i)\n",
    "    fs.compute(1000)\n",
    "\n",
    "    end = time.time()\n",
    "\n",
    "    sol = {var: fs.variable_solution(var) for var in mip_model.lp_model.vars}\n",
    "    feasible.append(mip_model.is_feasible(sol))\n",
    "\n",
    "    times.append(end-start)\n",
    "    print(\"Model {} solved.\".format(i))\n",
    "\n",
    "print(\"#----------------------------------#\")\n",
    "print(\"Feasible solutions found in {} tests: {}\".format(test_number, sum(feasible)))\n",
    "\n",
    "print(times)\n",
    "print(\"Average time consumed: {}s\".format(sum(times)/len(times)))\n",
    "\n",
    "times = np.array(times)\n",
    "feasible_times = times[np.array(feasible)]\n",
    "print(\"Average time consumed for feasible solutions: {}s\".format(sum(feasible_times)/len(feasible_times)))"
   ]
  },
  {
   "cell_type": "markdown",
   "id": "ce0c685a",
   "metadata": {
    "id": "ce0c685a"
   },
   "source": [
    "We should now observe, that not every computation has found a solution. Nevertheless, the computations that found a solution are quite a bit faster than the runs from Experiment 1."
   ]
  },
  {
   "cell_type": "markdown",
   "id": "c35a80f3",
   "metadata": {
    "id": "c35a80f3"
   },
   "source": [
    "We encourage you now to play with the parameter of the Feasibility Pump to get more acquainted with the significance of the choice of the optimal value for the parameter `t`."
   ]
  }
 ],
 "metadata": {
  "colab": {
   "name": "feasibility_pump_10_teams_example.ipynb",
   "provenance": []
  },
  "kernelspec": {
   "display_name": "Python 3",
   "language": "python",
   "name": "python3"
  },
  "language_info": {
   "codemirror_mode": {
    "name": "ipython",
    "version": 3
   },
   "file_extension": ".py",
   "mimetype": "text/x-python",
   "name": "python",
   "nbconvert_exporter": "python",
   "pygments_lexer": "ipython3",
   "version": "3.8.8"
  }
 },
 "nbformat": 4,
 "nbformat_minor": 5
}
