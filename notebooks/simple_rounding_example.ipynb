{
 "cells": [
  {
   "cell_type": "markdown",
   "id": "0fb2aefb",
   "metadata": {},
   "source": [
    "# Simple Rounding example"
   ]
  },
  {
   "cell_type": "markdown",
   "id": "de7cc546",
   "metadata": {},
   "source": [
    "Simple Rounding is a heuristic, that rounds each integer variable to the closest integer of the relaxation LP solution."
   ]
  },
  {
   "cell_type": "markdown",
   "id": "a999176b",
   "metadata": {
    "id": "OrtQ45RzRVvy"
   },
   "source": [
    "## Installing the packages"
   ]
  },
  {
   "cell_type": "markdown",
   "id": "cee2b5c9",
   "metadata": {
    "id": "0Aed_OejRpnN"
   },
   "source": [
    "In the following we use the `GurobiSolver` and thus need to install gurobi."
   ]
  },
  {
   "cell_type": "code",
   "execution_count": null,
   "id": "bbae47d4",
   "metadata": {
    "id": "cdEO66xTQcXk"
   },
   "outputs": [],
   "source": [
    "%%capture\n",
    "!pip install gurobipy"
   ]
  },
  {
   "cell_type": "markdown",
   "id": "9df2dd8c",
   "metadata": {},
   "source": [
    "Afterwards, we can install hips."
   ]
  },
  {
   "cell_type": "code",
   "execution_count": null,
   "id": "c9c9940a",
   "metadata": {
    "id": "SZIDU11hTrbe"
   },
   "outputs": [],
   "source": [
    "%%capture\n",
    "!pip install https://github.com/cxlvinchau/hips/archive/master.zip"
   ]
  },
  {
   "cell_type": "markdown",
   "id": "219a0e3e",
   "metadata": {
    "id": "uwPUabdgRxpt"
   },
   "source": [
    "## Example"
   ]
  },
  {
   "cell_type": "markdown",
   "id": "aa0929b9",
   "metadata": {
    "id": "5TaiibKkUKm1"
   },
   "source": [
    "First, we need to import the dependencies."
   ]
  },
  {
   "cell_type": "code",
   "execution_count": null,
   "id": "c79d4cf3",
   "metadata": {},
   "outputs": [],
   "source": [
    "from hips import *\n",
    "from hips.models import *\n",
    "from hips.solver import GurobiSolver\n",
    "from hips.heuristics import SimpleRounding"
   ]
  },
  {
   "cell_type": "markdown",
   "id": "551c7b35",
   "metadata": {},
   "source": [
    "Next we initialize a helper function, which allows us to load a model. The model represents the following MIP:\n",
    "$$\n",
    "\\begin{array}{lr@{}c@{}r@{}l}\n",
    "    \\text{maximize }   & x_1 + x_2  \\\\\n",
    "    \\text{subject to } & x_1 + \\frac{2}{3} x_2 \\leq 2 \\\\\n",
    "                       & x_1 + \\frac{3}{2} x_2 \\leq 3 \\\\\n",
    "                       & x_1, x_2 \\geq 0 \\\\\n",
    "                       & x_1, x_2 \\in \\mathbb{Z}\n",
    "\\end{array}\n",
    "$$"
   ]
  },
  {
   "cell_type": "code",
   "execution_count": null,
   "id": "d605823e",
   "metadata": {},
   "outputs": [],
   "source": [
    "def build_model(mip_model):\n",
    "    x = mip_model.add_variable(\"x\", VarTypes.INTEGER, lb=0, ub=float(\"inf\"), dim=2)\n",
    "    constr1 = HIPSArray([1,2/3])*x <= 2\n",
    "    constr2 = HIPSArray([1,1.5])*x <= 3\n",
    "    mip_model.add_constraint(constr1)\n",
    "    mip_model.add_constraint(constr2)\n",
    "    obj_func = HIPSArray([1,1])*x\n",
    "    mip_model.set_objective(obj_func)\n",
    "    mip_model.lp_model.set_lp_sense(ProblemSense.MAX)"
   ]
  },
  {
   "cell_type": "markdown",
   "id": "28ec0fbb",
   "metadata": {},
   "source": [
    "We can now build the model:"
   ]
  },
  {
   "cell_type": "code",
   "execution_count": null,
   "id": "a512e2d7",
   "metadata": {},
   "outputs": [],
   "source": [
    "mip_model = MIPModel(GurobiSolver())\n",
    "build_model(mip_model)"
   ]
  },
  {
   "cell_type": "markdown",
   "id": "674e96e8",
   "metadata": {},
   "source": [
    "Finally we setup the heuristic and let it compute:"
   ]
  },
  {
   "cell_type": "code",
   "execution_count": null,
   "id": "fe71bdbe",
   "metadata": {},
   "outputs": [],
   "source": [
    "heur = SimpleRounding(mip_model)\n",
    "heur.compute()\n",
    "print(\"Status: {}\".format(heur.get_status()))\n",
    "print(\"Found solution: {}\".format(heur.get_objective_value()))\n",
    "print(\"With Variable values: {}\".format({var: heur.variable_solution(var) for var in mip_model.get_variables()}))"
   ]
  }
 ],
 "metadata": {
  "kernelspec": {
   "display_name": "Python 3",
   "language": "python",
   "name": "python3"
  },
  "language_info": {
   "codemirror_mode": {
    "name": "ipython",
    "version": 3
   },
   "file_extension": ".py",
   "mimetype": "text/x-python",
   "name": "python",
   "nbconvert_exporter": "python",
   "pygments_lexer": "ipython3",
   "version": "3.8.8"
  }
 },
 "nbformat": 4,
 "nbformat_minor": 5
}
