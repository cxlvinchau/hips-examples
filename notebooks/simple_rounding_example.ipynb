{
  "nbformat": 4,
  "nbformat_minor": 5,
  "metadata": {
    "kernelspec": {
      "display_name": "Python 3",
      "language": "python",
      "name": "python3"
    },
    "language_info": {
      "codemirror_mode": {
        "name": "ipython",
        "version": 3
      },
      "file_extension": ".py",
      "mimetype": "text/x-python",
      "name": "python",
      "nbconvert_exporter": "python",
      "pygments_lexer": "ipython3",
      "version": "3.8.8"
    },
    "colab": {
      "name": "simple_rounding_example.ipynb",
      "provenance": []
    }
  },
  "cells": [
    {
      "cell_type": "markdown",
      "metadata": {
        "id": "0fb2aefb"
      },
      "source": [
        "# Simple Rounding example"
      ],
      "id": "0fb2aefb"
    },
    {
      "cell_type": "markdown",
      "metadata": {
        "id": "de7cc546"
      },
      "source": [
        "Simple Rounding is a heuristic, that rounds each integer variable to the closest integer of the relaxation LP solution."
      ],
      "id": "de7cc546"
    },
    {
      "cell_type": "markdown",
      "metadata": {
        "id": "a999176b"
      },
      "source": [
        "## Installing the packages"
      ],
      "id": "a999176b"
    },
    {
      "cell_type": "markdown",
      "metadata": {
        "id": "cee2b5c9"
      },
      "source": [
        "In the following we use the `GurobiSolver` and thus need to install gurobi."
      ],
      "id": "cee2b5c9"
    },
    {
      "cell_type": "code",
      "metadata": {
        "id": "bbae47d4"
      },
      "source": [
        "%%capture\n",
        "!pip install gurobipy"
      ],
      "id": "bbae47d4",
      "execution_count": null,
      "outputs": []
    },
    {
      "cell_type": "markdown",
      "metadata": {
        "id": "9df2dd8c"
      },
      "source": [
        "Afterwards, we can install hips."
      ],
      "id": "9df2dd8c"
    },
    {
      "cell_type": "code",
      "metadata": {
        "id": "c9c9940a"
      },
      "source": [
        "%%capture\n",
        "!pip install https://github.com/cxlvinchau/hips/archive/master.zip"
      ],
      "id": "c9c9940a",
      "execution_count": null,
      "outputs": []
    },
    {
      "cell_type": "markdown",
      "metadata": {
        "id": "219a0e3e"
      },
      "source": [
        "## Example"
      ],
      "id": "219a0e3e"
    },
    {
      "cell_type": "markdown",
      "metadata": {
        "id": "aa0929b9"
      },
      "source": [
        "First, we need to import the dependencies."
      ],
      "id": "aa0929b9"
    },
    {
      "cell_type": "code",
      "metadata": {
        "id": "c79d4cf3"
      },
      "source": [
        "from hips import VarTypes, HIPSArray, ProblemSense\n",
        "from hips.models import MIPModel\n",
        "from hips.solver import GurobiSolver\n",
        "from hips.heuristics import SimpleRounding"
      ],
      "id": "c79d4cf3",
      "execution_count": null,
      "outputs": []
    },
    {
      "cell_type": "markdown",
      "metadata": {
        "id": "551c7b35"
      },
      "source": [
        "Next we initialize a helper function, which allows us to load a model. The model represents the following MIP:\n",
        "$$\n",
        "\\begin{array}{lr@{}c@{}r@{}l}\n",
        "    \\text{maximize }   & x_1 + x_2  \\\\\n",
        "    \\text{subject to } & x_1 + \\frac{2}{3} x_2 \\leq 2 \\\\\n",
        "                       & x_1 + \\frac{3}{2} x_2 \\leq 3 \\\\\n",
        "                       & x_1, x_2 \\geq 0 \\\\\n",
        "                       & x_1, x_2 \\in \\mathbb{Z}\n",
        "\\end{array}\n",
        "$$"
      ],
      "id": "551c7b35"
    },
    {
      "cell_type": "code",
      "metadata": {
        "id": "d605823e"
      },
      "source": [
        "def build_model(mip_model):\n",
        "    x = mip_model.add_variable(\"x\", VarTypes.INTEGER, lb=0, ub=float(\"inf\"), dim=2)\n",
        "    constr1 = HIPSArray([1,2/3])*x <= 2\n",
        "    constr2 = HIPSArray([1,1.5])*x <= 3\n",
        "    mip_model.add_constraint(constr1)\n",
        "    mip_model.add_constraint(constr2)\n",
        "    obj_func = HIPSArray([1,1])*x\n",
        "    mip_model.set_objective(obj_func)\n",
        "    mip_model.lp_model.set_lp_sense(ProblemSense.MAX)"
      ],
      "id": "d605823e",
      "execution_count": null,
      "outputs": []
    },
    {
      "cell_type": "markdown",
      "metadata": {
        "id": "28ec0fbb"
      },
      "source": [
        "We can now build the model:"
      ],
      "id": "28ec0fbb"
    },
    {
      "cell_type": "code",
      "metadata": {
        "id": "a512e2d7"
      },
      "source": [
        "mip_model = MIPModel(GurobiSolver())\n",
        "build_model(mip_model)"
      ],
      "id": "a512e2d7",
      "execution_count": null,
      "outputs": []
    },
    {
      "cell_type": "markdown",
      "metadata": {
        "id": "674e96e8"
      },
      "source": [
        "Finally we setup the heuristic and start the computation:"
      ],
      "id": "674e96e8"
    },
    {
      "cell_type": "code",
      "metadata": {
        "id": "fe71bdbe"
      },
      "source": [
        "heur = SimpleRounding(mip_model)\n",
        "heur.compute()\n",
        "print(\"Status: {}\".format(heur.get_status()))\n",
        "print(\"Found solution: {}\".format(heur.get_objective_value()))\n",
        "print(\"With Variable values: {}\".format({var: heur.variable_solution(var) for var in mip_model.get_variables()}))"
      ],
      "id": "fe71bdbe",
      "execution_count": null,
      "outputs": []
    }
  ]
}